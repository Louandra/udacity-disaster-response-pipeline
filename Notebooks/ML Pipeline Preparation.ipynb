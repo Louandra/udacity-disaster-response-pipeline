{
 "cells": [
  {
   "cell_type": "markdown",
   "metadata": {},
   "source": [
    "# ML Pipeline Preparation\n",
    "Follow the instructions below to help you create your ML pipeline.\n",
    "### 1. Import libraries and load data from database.\n",
    "- Import Python libraries\n",
    "- Load dataset from database with [`read_sql_table`](https://pandas.pydata.org/pandas-docs/stable/generated/pandas.read_sql_table.html)\n",
    "- Define feature and target variables X and Y"
   ]
  },
  {
   "cell_type": "code",
   "execution_count": 2,
   "metadata": {
    "ExecuteTime": {
     "end_time": "2024-05-20T15:24:07.062385Z",
     "start_time": "2024-05-20T15:24:06.381550Z"
    }
   },
   "outputs": [],
   "source": [
    "# import libraries\n",
    "import pandas as pd\n",
    "pd.set_option(\"max_colwidth\", 500)\n",
    "from sqlalchemy import create_engine"
   ]
  },
  {
   "cell_type": "code",
   "execution_count": 3,
   "metadata": {
    "ExecuteTime": {
     "end_time": "2024-05-20T15:24:07.067470Z",
     "start_time": "2024-05-20T15:24:07.064719Z"
    }
   },
   "outputs": [],
   "source": [
    "import datetime"
   ]
  },
  {
   "cell_type": "code",
   "execution_count": 4,
   "metadata": {
    "ExecuteTime": {
     "end_time": "2024-05-20T15:24:07.505089Z",
     "start_time": "2024-05-20T15:24:07.501696Z"
    }
   },
   "outputs": [],
   "source": [
    "import sys\n",
    "import numpy\n",
    "numpy.set_printoptions(threshold=sys.maxsize)"
   ]
  },
  {
   "cell_type": "code",
   "execution_count": 5,
   "metadata": {
    "ExecuteTime": {
     "end_time": "2024-05-20T15:24:08.569085Z",
     "start_time": "2024-05-20T15:24:07.879331Z"
    }
   },
   "outputs": [],
   "source": [
    "# load data from database\n",
    "engine = create_engine('sqlite:///la_udacity_project.db')\n",
    "query = \"SELECT * FROM disaster_response_data\"\n",
    "df = pd.read_sql_query(query, engine)\n"
   ]
  },
  {
   "cell_type": "code",
   "execution_count": 6,
   "metadata": {
    "ExecuteTime": {
     "end_time": "2024-05-20T15:24:08.584183Z",
     "start_time": "2024-05-20T15:24:08.571422Z"
    }
   },
   "outputs": [
    {
     "data": {
      "text/plain": [
       "(26216, 40)"
      ]
     },
     "execution_count": 6,
     "metadata": {},
     "output_type": "execute_result"
    }
   ],
   "source": [
    "df.shape"
   ]
  },
  {
   "cell_type": "code",
   "execution_count": 9,
   "metadata": {
    "ExecuteTime": {
     "end_time": "2024-05-20T15:24:18.189023Z",
     "start_time": "2024-05-20T15:24:18.160593Z"
    }
   },
   "outputs": [
    {
     "data": {
      "text/html": [
       "<div>\n",
       "<style scoped>\n",
       "    .dataframe tbody tr th:only-of-type {\n",
       "        vertical-align: middle;\n",
       "    }\n",
       "\n",
       "    .dataframe tbody tr th {\n",
       "        vertical-align: top;\n",
       "    }\n",
       "\n",
       "    .dataframe thead th {\n",
       "        text-align: right;\n",
       "    }\n",
       "</style>\n",
       "<table border=\"1\" class=\"dataframe\">\n",
       "  <thead>\n",
       "    <tr style=\"text-align: right;\">\n",
       "      <th></th>\n",
       "      <th>id</th>\n",
       "      <th>message</th>\n",
       "      <th>original</th>\n",
       "      <th>genre</th>\n",
       "      <th>related</th>\n",
       "      <th>request</th>\n",
       "      <th>offer</th>\n",
       "      <th>aid_related</th>\n",
       "      <th>medical_help</th>\n",
       "      <th>medical_products</th>\n",
       "      <th>...</th>\n",
       "      <th>aid_centers</th>\n",
       "      <th>other_infrastructure</th>\n",
       "      <th>weather_related</th>\n",
       "      <th>floods</th>\n",
       "      <th>storm</th>\n",
       "      <th>fire</th>\n",
       "      <th>earthquake</th>\n",
       "      <th>cold</th>\n",
       "      <th>other_weather</th>\n",
       "      <th>direct_report</th>\n",
       "    </tr>\n",
       "  </thead>\n",
       "  <tbody>\n",
       "    <tr>\n",
       "      <th>0</th>\n",
       "      <td>2</td>\n",
       "      <td>Weather update - a cold front from Cuba that could pass over Haiti</td>\n",
       "      <td>Un front froid se retrouve sur Cuba ce matin. Il pourrait traverser Haiti demain. Des averses de pluie isolee sont encore prevues sur notre region ce soi</td>\n",
       "      <td>direct</td>\n",
       "      <td>1</td>\n",
       "      <td>0</td>\n",
       "      <td>0</td>\n",
       "      <td>0</td>\n",
       "      <td>0</td>\n",
       "      <td>0</td>\n",
       "      <td>...</td>\n",
       "      <td>0</td>\n",
       "      <td>0</td>\n",
       "      <td>0</td>\n",
       "      <td>0</td>\n",
       "      <td>0</td>\n",
       "      <td>0</td>\n",
       "      <td>0</td>\n",
       "      <td>0</td>\n",
       "      <td>0</td>\n",
       "      <td>0</td>\n",
       "    </tr>\n",
       "    <tr>\n",
       "      <th>1</th>\n",
       "      <td>7</td>\n",
       "      <td>Is the Hurricane over or is it not over</td>\n",
       "      <td>Cyclone nan fini osinon li pa fini</td>\n",
       "      <td>direct</td>\n",
       "      <td>1</td>\n",
       "      <td>0</td>\n",
       "      <td>0</td>\n",
       "      <td>1</td>\n",
       "      <td>0</td>\n",
       "      <td>0</td>\n",
       "      <td>...</td>\n",
       "      <td>0</td>\n",
       "      <td>0</td>\n",
       "      <td>1</td>\n",
       "      <td>0</td>\n",
       "      <td>1</td>\n",
       "      <td>0</td>\n",
       "      <td>0</td>\n",
       "      <td>0</td>\n",
       "      <td>0</td>\n",
       "      <td>0</td>\n",
       "    </tr>\n",
       "    <tr>\n",
       "      <th>2</th>\n",
       "      <td>8</td>\n",
       "      <td>Looking for someone but no name</td>\n",
       "      <td>Patnm, di Maryani relem pou li banm nouvel li ak timoun yo. Mesi se john jean depi Monben kwochi.</td>\n",
       "      <td>direct</td>\n",
       "      <td>1</td>\n",
       "      <td>0</td>\n",
       "      <td>0</td>\n",
       "      <td>0</td>\n",
       "      <td>0</td>\n",
       "      <td>0</td>\n",
       "      <td>...</td>\n",
       "      <td>0</td>\n",
       "      <td>0</td>\n",
       "      <td>0</td>\n",
       "      <td>0</td>\n",
       "      <td>0</td>\n",
       "      <td>0</td>\n",
       "      <td>0</td>\n",
       "      <td>0</td>\n",
       "      <td>0</td>\n",
       "      <td>0</td>\n",
       "    </tr>\n",
       "    <tr>\n",
       "      <th>3</th>\n",
       "      <td>9</td>\n",
       "      <td>UN reports Leogane 80-90 destroyed. Only Hospital St. Croix functioning. Needs supplies desperately.</td>\n",
       "      <td>UN reports Leogane 80-90 destroyed. Only Hospital St. Croix functioning. Needs supplies desperately.</td>\n",
       "      <td>direct</td>\n",
       "      <td>1</td>\n",
       "      <td>1</td>\n",
       "      <td>0</td>\n",
       "      <td>1</td>\n",
       "      <td>0</td>\n",
       "      <td>1</td>\n",
       "      <td>...</td>\n",
       "      <td>0</td>\n",
       "      <td>0</td>\n",
       "      <td>0</td>\n",
       "      <td>0</td>\n",
       "      <td>0</td>\n",
       "      <td>0</td>\n",
       "      <td>0</td>\n",
       "      <td>0</td>\n",
       "      <td>0</td>\n",
       "      <td>0</td>\n",
       "    </tr>\n",
       "    <tr>\n",
       "      <th>4</th>\n",
       "      <td>12</td>\n",
       "      <td>says: west side of Haiti, rest of the country today and tonight</td>\n",
       "      <td>facade ouest d Haiti et le reste du pays aujourd hui et ce soir</td>\n",
       "      <td>direct</td>\n",
       "      <td>1</td>\n",
       "      <td>0</td>\n",
       "      <td>0</td>\n",
       "      <td>0</td>\n",
       "      <td>0</td>\n",
       "      <td>0</td>\n",
       "      <td>...</td>\n",
       "      <td>0</td>\n",
       "      <td>0</td>\n",
       "      <td>0</td>\n",
       "      <td>0</td>\n",
       "      <td>0</td>\n",
       "      <td>0</td>\n",
       "      <td>0</td>\n",
       "      <td>0</td>\n",
       "      <td>0</td>\n",
       "      <td>0</td>\n",
       "    </tr>\n",
       "  </tbody>\n",
       "</table>\n",
       "<p>5 rows × 40 columns</p>\n",
       "</div>"
      ],
      "text/plain": [
       "   id  \\\n",
       "0   2   \n",
       "1   7   \n",
       "2   8   \n",
       "3   9   \n",
       "4  12   \n",
       "\n",
       "                                                                                                message  \\\n",
       "0                                    Weather update - a cold front from Cuba that could pass over Haiti   \n",
       "1                                                               Is the Hurricane over or is it not over   \n",
       "2                                                                       Looking for someone but no name   \n",
       "3  UN reports Leogane 80-90 destroyed. Only Hospital St. Croix functioning. Needs supplies desperately.   \n",
       "4                                       says: west side of Haiti, rest of the country today and tonight   \n",
       "\n",
       "                                                                                                                                                    original  \\\n",
       "0  Un front froid se retrouve sur Cuba ce matin. Il pourrait traverser Haiti demain. Des averses de pluie isolee sont encore prevues sur notre region ce soi   \n",
       "1                                                                                                                         Cyclone nan fini osinon li pa fini   \n",
       "2                                                          Patnm, di Maryani relem pou li banm nouvel li ak timoun yo. Mesi se john jean depi Monben kwochi.   \n",
       "3                                                       UN reports Leogane 80-90 destroyed. Only Hospital St. Croix functioning. Needs supplies desperately.   \n",
       "4                                                                                            facade ouest d Haiti et le reste du pays aujourd hui et ce soir   \n",
       "\n",
       "    genre  related  request  offer  aid_related  medical_help  \\\n",
       "0  direct        1        0      0            0             0   \n",
       "1  direct        1        0      0            1             0   \n",
       "2  direct        1        0      0            0             0   \n",
       "3  direct        1        1      0            1             0   \n",
       "4  direct        1        0      0            0             0   \n",
       "\n",
       "   medical_products  ...  aid_centers  other_infrastructure  weather_related  \\\n",
       "0                 0  ...            0                     0                0   \n",
       "1                 0  ...            0                     0                1   \n",
       "2                 0  ...            0                     0                0   \n",
       "3                 1  ...            0                     0                0   \n",
       "4                 0  ...            0                     0                0   \n",
       "\n",
       "   floods  storm  fire  earthquake  cold  other_weather  direct_report  \n",
       "0       0      0     0           0     0              0              0  \n",
       "1       0      1     0           0     0              0              0  \n",
       "2       0      0     0           0     0              0              0  \n",
       "3       0      0     0           0     0              0              0  \n",
       "4       0      0     0           0     0              0              0  \n",
       "\n",
       "[5 rows x 40 columns]"
      ]
     },
     "execution_count": 9,
     "metadata": {},
     "output_type": "execute_result"
    }
   ],
   "source": [
    "df.head()"
   ]
  },
  {
   "cell_type": "code",
   "execution_count": 10,
   "metadata": {
    "ExecuteTime": {
     "end_time": "2024-05-20T15:24:21.775718Z",
     "start_time": "2024-05-20T15:24:21.702390Z"
    }
   },
   "outputs": [
    {
     "data": {
      "text/plain": [
       "['direct', 'news', 'social']"
      ]
     },
     "execution_count": 10,
     "metadata": {},
     "output_type": "execute_result"
    }
   ],
   "source": [
    "genre_counts = df.groupby('genre').count()['message']\n",
    "genre_names = list(genre_counts.index)\n",
    "genre_names"
   ]
  },
  {
   "cell_type": "code",
   "execution_count": 11,
   "metadata": {
    "ExecuteTime": {
     "end_time": "2024-05-20T15:24:22.592616Z",
     "start_time": "2024-05-20T15:24:21.859893Z"
    }
   },
   "outputs": [
    {
     "data": {
      "text/plain": [
       "<AxesSubplot:xlabel='genre'>"
      ]
     },
     "execution_count": 11,
     "metadata": {},
     "output_type": "execute_result"
    },
    {
     "data": {
      "image/png": "[encoded data removed]",
      "text/plain": [
       "<Figure size 432x288 with 1 Axes>"
      ]
     },
     "metadata": {
      "needs_background": "light"
     },
     "output_type": "display_data"
    }
   ],
   "source": [
    "genre_counts.plot(kind = 'bar')"
   ]
  },
  {
   "cell_type": "code",
   "execution_count": 12,
   "metadata": {
    "ExecuteTime": {
     "end_time": "2024-05-20T15:24:22.608098Z",
     "start_time": "2024-05-20T15:24:22.595035Z"
    }
   },
   "outputs": [
    {
     "data": {
      "text/plain": [
       "['aid_related',\n",
       " 'weather_related',\n",
       " 'direct_report',\n",
       " 'request',\n",
       " 'other_aid',\n",
       " 'food',\n",
       " 'earthquake',\n",
       " 'storm',\n",
       " 'shelter',\n",
       " 'floods',\n",
       " 'medical_help',\n",
       " 'infrastructure_related',\n",
       " 'water',\n",
       " 'other_weather',\n",
       " 'buildings',\n",
       " 'medical_products',\n",
       " 'transport',\n",
       " 'death',\n",
       " 'other_infrastructure',\n",
       " 'refugees',\n",
       " 'military',\n",
       " 'search_and_rescue',\n",
       " 'money',\n",
       " 'electricity',\n",
       " 'cold',\n",
       " 'security',\n",
       " 'clothing',\n",
       " 'aid_centers',\n",
       " 'missing_people',\n",
       " 'hospitals',\n",
       " 'fire',\n",
       " 'tools',\n",
       " 'shops',\n",
       " 'offer',\n",
       " 'child_alone']"
      ]
     },
     "execution_count": 12,
     "metadata": {},
     "output_type": "execute_result"
    }
   ],
   "source": [
    "class_counts = df.drop(columns = ['id', 'message', 'original', 'genre', 'related']).sum(axis = 0).sort_values(ascending = False)\n",
    "class_names = list(class_counts.index)\n",
    "class_names"
   ]
  },
  {
   "cell_type": "code",
   "execution_count": 13,
   "metadata": {
    "ExecuteTime": {
     "end_time": "2024-05-20T15:24:26.501877Z",
     "start_time": "2024-05-20T15:24:26.490841Z"
    }
   },
   "outputs": [
    {
     "data": {
      "text/plain": [
       "0"
      ]
     },
     "execution_count": 13,
     "metadata": {},
     "output_type": "execute_result"
    }
   ],
   "source": [
    "# check for null messages\n",
    "df['message'].isna().sum()"
   ]
  },
  {
   "cell_type": "code",
   "execution_count": 14,
   "metadata": {
    "ExecuteTime": {
     "end_time": "2024-05-20T15:24:26.839983Z",
     "start_time": "2024-05-20T15:24:26.717075Z"
    }
   },
   "outputs": [
    {
     "data": {
      "text/html": [
       "<div>\n",
       "<style scoped>\n",
       "    .dataframe tbody tr th:only-of-type {\n",
       "        vertical-align: middle;\n",
       "    }\n",
       "\n",
       "    .dataframe tbody tr th {\n",
       "        vertical-align: top;\n",
       "    }\n",
       "\n",
       "    .dataframe thead th {\n",
       "        text-align: right;\n",
       "    }\n",
       "</style>\n",
       "<table border=\"1\" class=\"dataframe\">\n",
       "  <thead>\n",
       "    <tr style=\"text-align: right;\">\n",
       "      <th></th>\n",
       "      <th>id</th>\n",
       "      <th>message</th>\n",
       "      <th>original</th>\n",
       "      <th>genre</th>\n",
       "      <th>related</th>\n",
       "      <th>request</th>\n",
       "      <th>offer</th>\n",
       "      <th>aid_related</th>\n",
       "      <th>medical_help</th>\n",
       "      <th>medical_products</th>\n",
       "      <th>...</th>\n",
       "      <th>other_infrastructure</th>\n",
       "      <th>weather_related</th>\n",
       "      <th>floods</th>\n",
       "      <th>storm</th>\n",
       "      <th>fire</th>\n",
       "      <th>earthquake</th>\n",
       "      <th>cold</th>\n",
       "      <th>other_weather</th>\n",
       "      <th>direct_report</th>\n",
       "      <th>len</th>\n",
       "    </tr>\n",
       "  </thead>\n",
       "  <tbody>\n",
       "  </tbody>\n",
       "</table>\n",
       "<p>0 rows × 41 columns</p>\n",
       "</div>"
      ],
      "text/plain": [
       "Empty DataFrame\n",
       "Columns: [id, message, original, genre, related, request, offer, aid_related, medical_help, medical_products, search_and_rescue, security, military, child_alone, water, food, shelter, clothing, money, missing_people, refugees, death, other_aid, infrastructure_related, transport, buildings, electricity, tools, hospitals, shops, aid_centers, other_infrastructure, weather_related, floods, storm, fire, earthquake, cold, other_weather, direct_report, len]\n",
       "Index: []\n",
       "\n",
       "[0 rows x 41 columns]"
      ]
     },
     "execution_count": 14,
     "metadata": {},
     "output_type": "execute_result"
    }
   ],
   "source": [
    "# check for empty messages\n",
    "df['len'] = df['message'].str.len()\n",
    "df[df.len == 0].head()"
   ]
  },
  {
   "cell_type": "code",
   "execution_count": 15,
   "metadata": {
    "ExecuteTime": {
     "end_time": "2024-05-20T15:24:28.621636Z",
     "start_time": "2024-05-20T15:24:28.611122Z"
    }
   },
   "outputs": [],
   "source": [
    "df = df.drop(columns = ['len'])"
   ]
  },
  {
   "cell_type": "code",
   "execution_count": 16,
   "metadata": {
    "ExecuteTime": {
     "end_time": "2024-05-20T15:24:29.204785Z",
     "start_time": "2024-05-20T15:24:29.190931Z"
    }
   },
   "outputs": [
    {
     "data": {
      "text/plain": [
       "news      13054\n",
       "direct    10766\n",
       "social     2396\n",
       "Name: genre, dtype: int64"
      ]
     },
     "execution_count": 16,
     "metadata": {},
     "output_type": "execute_result"
    }
   ],
   "source": [
    "df['genre'].value_counts()"
   ]
  },
  {
   "cell_type": "code",
   "execution_count": 17,
   "metadata": {
    "ExecuteTime": {
     "end_time": "2024-05-20T15:24:31.292818Z",
     "start_time": "2024-05-20T15:24:31.284649Z"
    }
   },
   "outputs": [
    {
     "data": {
      "text/plain": [
       "1    19906\n",
       "0     6122\n",
       "2      188\n",
       "Name: related, dtype: int64"
      ]
     },
     "execution_count": 17,
     "metadata": {},
     "output_type": "execute_result"
    }
   ],
   "source": [
    "df['related'].value_counts()"
   ]
  },
  {
   "cell_type": "code",
   "execution_count": 18,
   "metadata": {
    "ExecuteTime": {
     "end_time": "2024-05-20T15:24:31.864533Z",
     "start_time": "2024-05-20T15:24:31.840264Z"
    }
   },
   "outputs": [],
   "source": [
    "df[df.related > 1] = 1"
   ]
  },
  {
   "cell_type": "code",
   "execution_count": 19,
   "metadata": {
    "ExecuteTime": {
     "end_time": "2024-05-20T15:24:32.107497Z",
     "start_time": "2024-05-20T15:24:32.101556Z"
    }
   },
   "outputs": [
    {
     "data": {
      "text/plain": [
       "1    20094\n",
       "0     6122\n",
       "Name: related, dtype: int64"
      ]
     },
     "execution_count": 19,
     "metadata": {},
     "output_type": "execute_result"
    }
   ],
   "source": [
    "df['related'].value_counts()"
   ]
  },
  {
   "cell_type": "code",
   "execution_count": 20,
   "metadata": {
    "ExecuteTime": {
     "end_time": "2024-05-20T15:24:33.878541Z",
     "start_time": "2024-05-20T15:24:33.842365Z"
    },
    "scrolled": true
   },
   "outputs": [
    {
     "data": {
      "text/plain": [
       "id                        25994\n",
       "message                   25991\n",
       "original                   9508\n",
       "genre                         4\n",
       "related                       2\n",
       "request                       2\n",
       "offer                         2\n",
       "aid_related                   2\n",
       "medical_help                  2\n",
       "medical_products              2\n",
       "search_and_rescue             2\n",
       "security                      2\n",
       "military                      2\n",
       "child_alone                   2\n",
       "water                         2\n",
       "food                          2\n",
       "shelter                       2\n",
       "clothing                      2\n",
       "money                         2\n",
       "missing_people                2\n",
       "refugees                      2\n",
       "death                         2\n",
       "other_aid                     2\n",
       "infrastructure_related        2\n",
       "transport                     2\n",
       "buildings                     2\n",
       "electricity                   2\n",
       "tools                         2\n",
       "hospitals                     2\n",
       "shops                         2\n",
       "aid_centers                   2\n",
       "other_infrastructure          2\n",
       "weather_related               2\n",
       "floods                        2\n",
       "storm                         2\n",
       "fire                          2\n",
       "earthquake                    2\n",
       "cold                          2\n",
       "other_weather                 2\n",
       "direct_report                 2\n",
       "dtype: int64"
      ]
     },
     "execution_count": 20,
     "metadata": {},
     "output_type": "execute_result"
    }
   ],
   "source": [
    "df.nunique()"
   ]
  },
  {
   "cell_type": "code",
   "execution_count": 351,
   "metadata": {
    "ExecuteTime": {
     "end_time": "2024-05-19T17:03:23.706894Z",
     "start_time": "2024-05-19T17:03:23.687402Z"
    }
   },
   "outputs": [
    {
     "data": {
      "text/html": [
       "<div>\n",
       "<style scoped>\n",
       "    .dataframe tbody tr th:only-of-type {\n",
       "        vertical-align: middle;\n",
       "    }\n",
       "\n",
       "    .dataframe tbody tr th {\n",
       "        vertical-align: top;\n",
       "    }\n",
       "\n",
       "    .dataframe thead th {\n",
       "        text-align: right;\n",
       "    }\n",
       "</style>\n",
       "<table border=\"1\" class=\"dataframe\">\n",
       "  <thead>\n",
       "    <tr style=\"text-align: right;\">\n",
       "      <th></th>\n",
       "      <th>id</th>\n",
       "      <th>message</th>\n",
       "      <th>original</th>\n",
       "      <th>genre</th>\n",
       "      <th>related</th>\n",
       "      <th>request</th>\n",
       "      <th>offer</th>\n",
       "      <th>aid_related</th>\n",
       "      <th>medical_help</th>\n",
       "      <th>medical_products</th>\n",
       "      <th>...</th>\n",
       "      <th>aid_centers</th>\n",
       "      <th>other_infrastructure</th>\n",
       "      <th>weather_related</th>\n",
       "      <th>floods</th>\n",
       "      <th>storm</th>\n",
       "      <th>fire</th>\n",
       "      <th>earthquake</th>\n",
       "      <th>cold</th>\n",
       "      <th>other_weather</th>\n",
       "      <th>direct_report</th>\n",
       "    </tr>\n",
       "  </thead>\n",
       "  <tbody>\n",
       "    <tr>\n",
       "      <th>0</th>\n",
       "      <td>2</td>\n",
       "      <td>Weather update - a cold front from Cuba that could pass over Haiti</td>\n",
       "      <td>Un front froid se retrouve sur Cuba ce matin. Il pourrait traverser Haiti demain. Des averses de pluie isolee sont encore prevues sur notre region ce soi</td>\n",
       "      <td>direct</td>\n",
       "      <td>1</td>\n",
       "      <td>0</td>\n",
       "      <td>0</td>\n",
       "      <td>0</td>\n",
       "      <td>0</td>\n",
       "      <td>0</td>\n",
       "      <td>...</td>\n",
       "      <td>0</td>\n",
       "      <td>0</td>\n",
       "      <td>0</td>\n",
       "      <td>0</td>\n",
       "      <td>0</td>\n",
       "      <td>0</td>\n",
       "      <td>0</td>\n",
       "      <td>0</td>\n",
       "      <td>0</td>\n",
       "      <td>0</td>\n",
       "    </tr>\n",
       "    <tr>\n",
       "      <th>1</th>\n",
       "      <td>7</td>\n",
       "      <td>Is the Hurricane over or is it not over</td>\n",
       "      <td>Cyclone nan fini osinon li pa fini</td>\n",
       "      <td>direct</td>\n",
       "      <td>1</td>\n",
       "      <td>0</td>\n",
       "      <td>0</td>\n",
       "      <td>1</td>\n",
       "      <td>0</td>\n",
       "      <td>0</td>\n",
       "      <td>...</td>\n",
       "      <td>0</td>\n",
       "      <td>0</td>\n",
       "      <td>1</td>\n",
       "      <td>0</td>\n",
       "      <td>1</td>\n",
       "      <td>0</td>\n",
       "      <td>0</td>\n",
       "      <td>0</td>\n",
       "      <td>0</td>\n",
       "      <td>0</td>\n",
       "    </tr>\n",
       "    <tr>\n",
       "      <th>2</th>\n",
       "      <td>8</td>\n",
       "      <td>Looking for someone but no name</td>\n",
       "      <td>Patnm, di Maryani relem pou li banm nouvel li ak timoun yo. Mesi se john jean depi Monben kwochi.</td>\n",
       "      <td>direct</td>\n",
       "      <td>1</td>\n",
       "      <td>0</td>\n",
       "      <td>0</td>\n",
       "      <td>0</td>\n",
       "      <td>0</td>\n",
       "      <td>0</td>\n",
       "      <td>...</td>\n",
       "      <td>0</td>\n",
       "      <td>0</td>\n",
       "      <td>0</td>\n",
       "      <td>0</td>\n",
       "      <td>0</td>\n",
       "      <td>0</td>\n",
       "      <td>0</td>\n",
       "      <td>0</td>\n",
       "      <td>0</td>\n",
       "      <td>0</td>\n",
       "    </tr>\n",
       "    <tr>\n",
       "      <th>3</th>\n",
       "      <td>9</td>\n",
       "      <td>UN reports Leogane 80-90 destroyed. Only Hospital St. Croix functioning. Needs supplies desperately.</td>\n",
       "      <td>UN reports Leogane 80-90 destroyed. Only Hospital St. Croix functioning. Needs supplies desperately.</td>\n",
       "      <td>direct</td>\n",
       "      <td>1</td>\n",
       "      <td>1</td>\n",
       "      <td>0</td>\n",
       "      <td>1</td>\n",
       "      <td>0</td>\n",
       "      <td>1</td>\n",
       "      <td>...</td>\n",
       "      <td>0</td>\n",
       "      <td>0</td>\n",
       "      <td>0</td>\n",
       "      <td>0</td>\n",
       "      <td>0</td>\n",
       "      <td>0</td>\n",
       "      <td>0</td>\n",
       "      <td>0</td>\n",
       "      <td>0</td>\n",
       "      <td>0</td>\n",
       "    </tr>\n",
       "    <tr>\n",
       "      <th>4</th>\n",
       "      <td>12</td>\n",
       "      <td>says: west side of Haiti, rest of the country today and tonight</td>\n",
       "      <td>facade ouest d Haiti et le reste du pays aujourd hui et ce soir</td>\n",
       "      <td>direct</td>\n",
       "      <td>1</td>\n",
       "      <td>0</td>\n",
       "      <td>0</td>\n",
       "      <td>0</td>\n",
       "      <td>0</td>\n",
       "      <td>0</td>\n",
       "      <td>...</td>\n",
       "      <td>0</td>\n",
       "      <td>0</td>\n",
       "      <td>0</td>\n",
       "      <td>0</td>\n",
       "      <td>0</td>\n",
       "      <td>0</td>\n",
       "      <td>0</td>\n",
       "      <td>0</td>\n",
       "      <td>0</td>\n",
       "      <td>0</td>\n",
       "    </tr>\n",
       "  </tbody>\n",
       "</table>\n",
       "<p>5 rows × 40 columns</p>\n",
       "</div>"
      ],
      "text/plain": [
       "   id  \\\n",
       "0   2   \n",
       "1   7   \n",
       "2   8   \n",
       "3   9   \n",
       "4  12   \n",
       "\n",
       "                                                                                                message  \\\n",
       "0                                    Weather update - a cold front from Cuba that could pass over Haiti   \n",
       "1                                                               Is the Hurricane over or is it not over   \n",
       "2                                                                       Looking for someone but no name   \n",
       "3  UN reports Leogane 80-90 destroyed. Only Hospital St. Croix functioning. Needs supplies desperately.   \n",
       "4                                       says: west side of Haiti, rest of the country today and tonight   \n",
       "\n",
       "                                                                                                                                                    original  \\\n",
       "0  Un front froid se retrouve sur Cuba ce matin. Il pourrait traverser Haiti demain. Des averses de pluie isolee sont encore prevues sur notre region ce soi   \n",
       "1                                                                                                                         Cyclone nan fini osinon li pa fini   \n",
       "2                                                          Patnm, di Maryani relem pou li banm nouvel li ak timoun yo. Mesi se john jean depi Monben kwochi.   \n",
       "3                                                       UN reports Leogane 80-90 destroyed. Only Hospital St. Croix functioning. Needs supplies desperately.   \n",
       "4                                                                                            facade ouest d Haiti et le reste du pays aujourd hui et ce soir   \n",
       "\n",
       "    genre  related  request  offer  aid_related  medical_help  \\\n",
       "0  direct        1        0      0            0             0   \n",
       "1  direct        1        0      0            1             0   \n",
       "2  direct        1        0      0            0             0   \n",
       "3  direct        1        1      0            1             0   \n",
       "4  direct        1        0      0            0             0   \n",
       "\n",
       "   medical_products  ...  aid_centers  other_infrastructure  weather_related  \\\n",
       "0                 0  ...            0                     0                0   \n",
       "1                 0  ...            0                     0                1   \n",
       "2                 0  ...            0                     0                0   \n",
       "3                 1  ...            0                     0                0   \n",
       "4                 0  ...            0                     0                0   \n",
       "\n",
       "   floods  storm  fire  earthquake  cold  other_weather  direct_report  \n",
       "0       0      0     0           0     0              0              0  \n",
       "1       0      1     0           0     0              0              0  \n",
       "2       0      0     0           0     0              0              0  \n",
       "3       0      0     0           0     0              0              0  \n",
       "4       0      0     0           0     0              0              0  \n",
       "\n",
       "[5 rows x 40 columns]"
      ]
     },
     "execution_count": 351,
     "metadata": {},
     "output_type": "execute_result"
    }
   ],
   "source": [
    "df.head()"
   ]
  },
  {
   "cell_type": "markdown",
   "metadata": {},
   "source": [
    "### Additional transformations on the text to improve results"
   ]
  },
  {
   "cell_type": "code",
   "execution_count": 21,
   "metadata": {
    "ExecuteTime": {
     "end_time": "2024-05-20T15:24:54.271254Z",
     "start_time": "2024-05-20T15:24:54.262751Z"
    }
   },
   "outputs": [
    {
     "data": {
      "text/plain": [
       "id                         int64\n",
       "message                   object\n",
       "original                  object\n",
       "genre                     object\n",
       "related                    int64\n",
       "request                    int64\n",
       "offer                      int64\n",
       "aid_related                int64\n",
       "medical_help               int64\n",
       "medical_products           int64\n",
       "search_and_rescue          int64\n",
       "security                   int64\n",
       "military                   int64\n",
       "child_alone                int64\n",
       "water                      int64\n",
       "food                       int64\n",
       "shelter                    int64\n",
       "clothing                   int64\n",
       "money                      int64\n",
       "missing_people             int64\n",
       "refugees                   int64\n",
       "death                      int64\n",
       "other_aid                  int64\n",
       "infrastructure_related     int64\n",
       "transport                  int64\n",
       "buildings                  int64\n",
       "electricity                int64\n",
       "tools                      int64\n",
       "hospitals                  int64\n",
       "shops                      int64\n",
       "aid_centers                int64\n",
       "other_infrastructure       int64\n",
       "weather_related            int64\n",
       "floods                     int64\n",
       "storm                      int64\n",
       "fire                       int64\n",
       "earthquake                 int64\n",
       "cold                       int64\n",
       "other_weather              int64\n",
       "direct_report              int64\n",
       "dtype: object"
      ]
     },
     "execution_count": 21,
     "metadata": {},
     "output_type": "execute_result"
    }
   ],
   "source": [
    "df.dtypes"
   ]
  },
  {
   "cell_type": "code",
   "execution_count": 22,
   "metadata": {
    "ExecuteTime": {
     "end_time": "2024-05-20T15:24:54.720618Z",
     "start_time": "2024-05-20T15:24:54.697203Z"
    }
   },
   "outputs": [],
   "source": [
    "# convert characters to lowercase\n",
    "def lowercase(pdf, col):\n",
    "    pdf[col]=pdf[col].apply(lambda x: str(x).lower())\n",
    "    return pdf\n",
    "df = lowercase(df, 'message')"
   ]
  },
  {
   "cell_type": "markdown",
   "metadata": {},
   "source": [
    "### define X and Y"
   ]
  },
  {
   "cell_type": "code",
   "execution_count": 24,
   "metadata": {
    "ExecuteTime": {
     "end_time": "2024-05-20T15:26:08.696035Z",
     "start_time": "2024-05-20T15:26:08.691016Z"
    }
   },
   "outputs": [
    {
     "data": {
      "text/plain": [
       "Index(['id', 'message', 'original', 'genre', 'related', 'request', 'offer',\n",
       "       'aid_related', 'medical_help', 'medical_products', 'search_and_rescue',\n",
       "       'security', 'military', 'child_alone', 'water', 'food', 'shelter',\n",
       "       'clothing', 'money', 'missing_people', 'refugees', 'death', 'other_aid',\n",
       "       'infrastructure_related', 'transport', 'buildings', 'electricity',\n",
       "       'tools', 'hospitals', 'shops', 'aid_centers', 'other_infrastructure',\n",
       "       'weather_related', 'floods', 'storm', 'fire', 'earthquake', 'cold',\n",
       "       'other_weather', 'direct_report'],\n",
       "      dtype='object')"
      ]
     },
     "execution_count": 24,
     "metadata": {},
     "output_type": "execute_result"
    }
   ],
   "source": [
    "df.columns"
   ]
  },
  {
   "cell_type": "code",
   "execution_count": 25,
   "metadata": {
    "ExecuteTime": {
     "end_time": "2024-05-20T15:26:08.936263Z",
     "start_time": "2024-05-20T15:26:08.929706Z"
    }
   },
   "outputs": [],
   "source": [
    "X = df['message'].values\n",
    "Y = df.drop(columns = ['id', 'message', 'original', 'genre']).values"
   ]
  },
  {
   "cell_type": "markdown",
   "metadata": {},
   "source": [
    "### 2. Write a tokenization function to process your text data"
   ]
  },
  {
   "cell_type": "code",
   "execution_count": 26,
   "metadata": {
    "ExecuteTime": {
     "end_time": "2024-05-20T15:26:16.454637Z",
     "start_time": "2024-05-20T15:26:12.050041Z"
    }
   },
   "outputs": [
    {
     "name": "stderr",
     "output_type": "stream",
     "text": [
      "[nltk_data] Downloading package stopwords to\n",
      "[nltk_data]     /home/arjunanl/nltk_data...\n",
      "[nltk_data]   Package stopwords is already up-to-date!\n"
     ]
    },
    {
     "data": {
      "text/plain": [
       "True"
      ]
     },
     "execution_count": 26,
     "metadata": {},
     "output_type": "execute_result"
    }
   ],
   "source": [
    "import nltk\n",
    "nltk.download('stopwords')"
   ]
  },
  {
   "cell_type": "code",
   "execution_count": 27,
   "metadata": {
    "ExecuteTime": {
     "end_time": "2024-05-20T15:26:16.460319Z",
     "start_time": "2024-05-20T15:26:16.456936Z"
    }
   },
   "outputs": [],
   "source": [
    "# stop words\n",
    "import nltk\n",
    "from nltk.corpus import stopwords\n",
    "from nltk.tokenize import word_tokenize \n",
    "from nltk.stem.wordnet import WordNetLemmatizer\n",
    "import re"
   ]
  },
  {
   "cell_type": "code",
   "execution_count": 28,
   "metadata": {
    "ExecuteTime": {
     "end_time": "2024-05-20T15:26:16.472928Z",
     "start_time": "2024-05-20T15:26:16.466941Z"
    }
   },
   "outputs": [],
   "source": [
    "stopwords_nltk = list(stopwords.words(\"english\"))\n",
    "combined_stopwords = stopwords_nltk"
   ]
  },
  {
   "cell_type": "code",
   "execution_count": 29,
   "metadata": {
    "ExecuteTime": {
     "end_time": "2024-05-20T15:26:16.481555Z",
     "start_time": "2024-05-20T15:26:16.475433Z"
    }
   },
   "outputs": [],
   "source": [
    "def tokenize(text):\n",
    "    \"\"\"\n",
    "    Splits text into tokens\n",
    "    \n",
    "    Arguments:\n",
    "    text (str): text to split\n",
    "    Returns:\n",
    "    tokens (list): list of tokens in the text\n",
    "    \n",
    "    \"\"\"\n",
    "    import nltk\n",
    "    from nltk.corpus import stopwords\n",
    "    from nltk.tokenize import word_tokenize \n",
    "    from nltk.stem.wordnet import WordNetLemmatizer\n",
    "\n",
    "    stop_words = stopwords.words(\"english\")\n",
    "    # convert text to lowercase\n",
    "    text = text.lower()\n",
    "    \n",
    "    # remove punctuation\n",
    "    import re\n",
    "    text = re.sub(r\"[^a-zA-Z0-9]\", \" \", text) \n",
    "    \n",
    "    words = word_tokenize(text) \n",
    "\n",
    "    words = [w for w in words if w not in stop_words] \n",
    "    \n",
    "    lemmatizer = WordNetLemmatizer()    \n",
    "    tokens = [lemmatizer.lemmatize(word) for word in words if word not in stop_words]\n",
    "\n",
    "    return tokens"
   ]
  },
  {
   "cell_type": "code",
   "execution_count": 30,
   "metadata": {
    "ExecuteTime": {
     "end_time": "2024-05-20T15:26:16.488570Z",
     "start_time": "2024-05-20T15:26:16.483456Z"
    }
   },
   "outputs": [
    {
     "data": {
      "text/plain": [
       "'the message might be saying that they have been stuck in the presidential palace ( pal ) since the same tuesday ( as the quake ). they need water. the message says they are not finding a little water. no names, no number of people given.'"
      ]
     },
     "execution_count": 30,
     "metadata": {},
     "output_type": "execute_result"
    }
   ],
   "source": [
    "X[100]"
   ]
  },
  {
   "cell_type": "code",
   "execution_count": 31,
   "metadata": {
    "ExecuteTime": {
     "end_time": "2024-05-20T15:26:18.958912Z",
     "start_time": "2024-05-20T15:26:16.490124Z"
    }
   },
   "outputs": [],
   "source": [
    "# test tokenization function\n",
    "x0_tokens= tokenize(X[100])"
   ]
  },
  {
   "cell_type": "code",
   "execution_count": 32,
   "metadata": {
    "ExecuteTime": {
     "end_time": "2024-05-20T15:26:18.966384Z",
     "start_time": "2024-05-20T15:26:18.961330Z"
    }
   },
   "outputs": [
    {
     "data": {
      "text/plain": [
       "['message',\n",
       " 'might',\n",
       " 'saying',\n",
       " 'stuck',\n",
       " 'presidential',\n",
       " 'palace',\n",
       " 'pal',\n",
       " 'since',\n",
       " 'tuesday',\n",
       " 'quake',\n",
       " 'need',\n",
       " 'water',\n",
       " 'message',\n",
       " 'say',\n",
       " 'finding',\n",
       " 'little',\n",
       " 'water',\n",
       " 'name',\n",
       " 'number',\n",
       " 'people',\n",
       " 'given']"
      ]
     },
     "execution_count": 32,
     "metadata": {},
     "output_type": "execute_result"
    }
   ],
   "source": [
    "x0_tokens"
   ]
  },
  {
   "cell_type": "markdown",
   "metadata": {},
   "source": [
    "### 3. Build a machine learning pipeline\n",
    "This machine pipeline should take in the `message` column as input and output classification results on the other 36 categories in the dataset. You may find the [MultiOutputClassifier](http://scikit-learn.org/stable/modules/generated/sklearn.multioutput.MultiOutputClassifier.html) helpful for predicting multiple target variables."
   ]
  },
  {
   "cell_type": "code",
   "execution_count": 33,
   "metadata": {
    "ExecuteTime": {
     "end_time": "2024-05-20T15:26:19.282349Z",
     "start_time": "2024-05-20T15:26:18.968587Z"
    }
   },
   "outputs": [],
   "source": [
    "from sklearn.pipeline import Pipeline, FeatureUnion\n",
    "from sklearn.feature_extraction.text import CountVectorizer\n",
    "from sklearn.feature_extraction.text import TfidfVectorizer\n",
    "from sklearn.feature_extraction.text import TfidfTransformer\n",
    "from sklearn.multioutput import MultiOutputClassifier\n",
    "from sklearn.ensemble import RandomForestClassifier\n",
    "\n",
    "\n",
    "pipeline = Pipeline([\n",
    "    ('features', FeatureUnion([\n",
    "\n",
    "        ('text_pipeline', Pipeline([\n",
    "            ('vect', CountVectorizer(tokenizer=tokenize)),\n",
    "            ('tfidf', TfidfTransformer(smooth_idf=False))\n",
    "        ])),\n",
    "    ])),\n",
    "\n",
    "    ('clf', MultiOutputClassifier(RandomForestClassifier()))\n",
    "])"
   ]
  },
  {
   "cell_type": "markdown",
   "metadata": {},
   "source": [
    "### 4. Train pipeline\n",
    "- Split data into train and test sets\n",
    "- Train pipeline"
   ]
  },
  {
   "cell_type": "code",
   "execution_count": 34,
   "metadata": {
    "ExecuteTime": {
     "end_time": "2024-05-20T15:26:20.509143Z",
     "start_time": "2024-05-20T15:26:20.503042Z"
    }
   },
   "outputs": [
    {
     "data": {
      "text/plain": [
       "Index(['id', 'message', 'original', 'genre', 'related', 'request', 'offer',\n",
       "       'aid_related', 'medical_help', 'medical_products', 'search_and_rescue',\n",
       "       'security', 'military', 'child_alone', 'water', 'food', 'shelter',\n",
       "       'clothing', 'money', 'missing_people', 'refugees', 'death', 'other_aid',\n",
       "       'infrastructure_related', 'transport', 'buildings', 'electricity',\n",
       "       'tools', 'hospitals', 'shops', 'aid_centers', 'other_infrastructure',\n",
       "       'weather_related', 'floods', 'storm', 'fire', 'earthquake', 'cold',\n",
       "       'other_weather', 'direct_report'],\n",
       "      dtype='object')"
      ]
     },
     "execution_count": 34,
     "metadata": {},
     "output_type": "execute_result"
    }
   ],
   "source": [
    "df.columns"
   ]
  },
  {
   "cell_type": "code",
   "execution_count": 35,
   "metadata": {
    "ExecuteTime": {
     "end_time": "2024-05-20T15:26:21.077885Z",
     "start_time": "2024-05-20T15:26:21.055446Z"
    }
   },
   "outputs": [],
   "source": [
    "# split X and Y into train and test sets\n",
    "from sklearn.model_selection import train_test_split\n",
    "X_train, X_test, y_train, y_test = train_test_split(X, Y)\n"
   ]
  },
  {
   "cell_type": "code",
   "execution_count": 36,
   "metadata": {
    "ExecuteTime": {
     "end_time": "2024-05-20T15:26:24.027208Z",
     "start_time": "2024-05-20T15:26:24.022748Z"
    }
   },
   "outputs": [],
   "source": [
    "# check that the test and train split both have samples with every class\n",
    "def check_unique_labels(array):\n",
    "    import numpy as np\n",
    "    unique_values = np.apply_along_axis(np.unique, axis=0, arr=array)\n",
    "    # Print the unique values in each column\n",
    "    for col_idx, col_values in enumerate(unique_values.T):\n",
    "        print(f\"Column {col_idx+1}: {col_values}\")\n"
   ]
  },
  {
   "cell_type": "code",
   "execution_count": 37,
   "metadata": {
    "ExecuteTime": {
     "end_time": "2024-05-20T15:26:24.586075Z",
     "start_time": "2024-05-20T15:26:24.581994Z"
    }
   },
   "outputs": [
    {
     "data": {
      "text/plain": [
       "(19662, 36)"
      ]
     },
     "execution_count": 37,
     "metadata": {},
     "output_type": "execute_result"
    }
   ],
   "source": [
    "y_train.shape"
   ]
  },
  {
   "cell_type": "code",
   "execution_count": 38,
   "metadata": {
    "ExecuteTime": {
     "end_time": "2024-05-20T15:26:24.934620Z",
     "start_time": "2024-05-20T15:26:24.913926Z"
    }
   },
   "outputs": [
    {
     "name": "stdout",
     "output_type": "stream",
     "text": [
      "Column 1: [0 1]\n",
      "Column 2: [0 1]\n",
      "Column 3: [0 1]\n",
      "Column 4: [0 1]\n",
      "Column 5: [0 1]\n",
      "Column 6: [0 1]\n",
      "Column 7: [0 1]\n",
      "Column 8: [0 1]\n",
      "Column 9: [0 1]\n",
      "Column 10: [0 1]\n",
      "Column 11: [0 1]\n",
      "Column 12: [0 1]\n",
      "Column 13: [0 1]\n",
      "Column 14: [0 1]\n",
      "Column 15: [0 1]\n",
      "Column 16: [0 1]\n",
      "Column 17: [0 1]\n",
      "Column 18: [0 1]\n",
      "Column 19: [0 1]\n",
      "Column 20: [0 1]\n",
      "Column 21: [0 1]\n",
      "Column 22: [0 1]\n",
      "Column 23: [0 1]\n",
      "Column 24: [0 1]\n",
      "Column 25: [0 1]\n",
      "Column 26: [0 1]\n",
      "Column 27: [0 1]\n",
      "Column 28: [0 1]\n",
      "Column 29: [0 1]\n",
      "Column 30: [0 1]\n",
      "Column 31: [0 1]\n",
      "Column 32: [0 1]\n",
      "Column 33: [0 1]\n",
      "Column 34: [0 1]\n",
      "Column 35: [0 1]\n",
      "Column 36: [0 1]\n"
     ]
    }
   ],
   "source": [
    "check_unique_labels(y_train)"
   ]
  },
  {
   "cell_type": "code",
   "execution_count": 39,
   "metadata": {
    "ExecuteTime": {
     "end_time": "2024-05-20T15:26:26.657295Z",
     "start_time": "2024-05-20T15:26:26.640932Z"
    }
   },
   "outputs": [
    {
     "name": "stdout",
     "output_type": "stream",
     "text": [
      "Column 1: [0 1]\n",
      "Column 2: [0 1]\n",
      "Column 3: [0 1]\n",
      "Column 4: [0 1]\n",
      "Column 5: [0 1]\n",
      "Column 6: [0 1]\n",
      "Column 7: [0 1]\n",
      "Column 8: [0 1]\n",
      "Column 9: [0 1]\n",
      "Column 10: [0 1]\n",
      "Column 11: [0 1]\n",
      "Column 12: [0 1]\n",
      "Column 13: [0 1]\n",
      "Column 14: [0 1]\n",
      "Column 15: [0 1]\n",
      "Column 16: [0 1]\n",
      "Column 17: [0 1]\n",
      "Column 18: [0 1]\n",
      "Column 19: [0 1]\n",
      "Column 20: [0 1]\n",
      "Column 21: [0 1]\n",
      "Column 22: [0 1]\n",
      "Column 23: [0 1]\n",
      "Column 24: [0 1]\n",
      "Column 25: [0 1]\n",
      "Column 26: [0 1]\n",
      "Column 27: [0 1]\n",
      "Column 28: [0 1]\n",
      "Column 29: [0 1]\n",
      "Column 30: [0 1]\n",
      "Column 31: [0 1]\n",
      "Column 32: [0 1]\n",
      "Column 33: [0 1]\n",
      "Column 34: [0 1]\n",
      "Column 35: [0 1]\n",
      "Column 36: [0 1]\n"
     ]
    }
   ],
   "source": [
    "check_unique_labels(y_test)"
   ]
  },
  {
   "cell_type": "code",
   "execution_count": 40,
   "metadata": {
    "ExecuteTime": {
     "end_time": "2024-05-20T15:36:25.712005Z",
     "start_time": "2024-05-20T15:26:32.190650Z"
    }
   },
   "outputs": [
    {
     "name": "stdout",
     "output_type": "stream",
     "text": [
      "train start time:  2024-05-20 17:26:32.192801\n",
      "train end time:  2024-05-20 17:36:25.708106\n"
     ]
    }
   ],
   "source": [
    "print(\"train start time: \", datetime.datetime.now())\n",
    "pipeline.fit(X_train, y_train)\n",
    "print(\"train end time: \", datetime.datetime.now())"
   ]
  },
  {
   "cell_type": "markdown",
   "metadata": {},
   "source": [
    "### 5. Test your model\n",
    "Report the f1 score, precision and recall for each output category of the dataset. You can do this by iterating through the columns and calling sklearn's `classification_report` on each."
   ]
  },
  {
   "cell_type": "code",
   "execution_count": 41,
   "metadata": {
    "ExecuteTime": {
     "end_time": "2024-05-20T15:36:25.719861Z",
     "start_time": "2024-05-20T15:36:25.714231Z"
    }
   },
   "outputs": [],
   "source": [
    "def calculate_model_metrics(X_test, y_test, y_pred):\n",
    "    from sklearn.metrics import accuracy_score, classification_report\n",
    "    accuracy = accuracy_score(y_test, y_pred)\n",
    "    report = classification_report(y_test, y_pred)\n",
    "\n",
    "    print(\"Accuracy:\", accuracy)\n",
    "    print(\"Classification Report:\")\n",
    "    print(report)\n",
    "    \n",
    "    # accuracy for each class\n",
    "    accuracies = [accuracy_score(y_test[:, i], y_pred[:, i]) for i in range(y_test.shape[1])]\n",
    "    print(\"Accuracy for each output:\", accuracies)"
   ]
  },
  {
   "cell_type": "code",
   "execution_count": 42,
   "metadata": {
    "ExecuteTime": {
     "end_time": "2024-05-20T15:37:49.367381Z",
     "start_time": "2024-05-20T15:36:25.723175Z"
    }
   },
   "outputs": [],
   "source": [
    "# metrics on train\n",
    "y_train_pred = pipeline.predict(X_train)"
   ]
  },
  {
   "cell_type": "code",
   "execution_count": 43,
   "metadata": {
    "ExecuteTime": {
     "end_time": "2024-05-20T15:37:49.675563Z",
     "start_time": "2024-05-20T15:37:49.369808Z"
    },
    "collapsed": true
   },
   "outputs": [
    {
     "name": "stdout",
     "output_type": "stream",
     "text": [
      "Accuracy: 0.994405452141186\n",
      "Classification Report:\n",
      "              precision    recall  f1-score   support\n",
      "\n",
      "           0       1.00      1.00      1.00     15060\n",
      "           1       1.00      1.00      1.00      3487\n",
      "           2       1.00      1.00      1.00       208\n",
      "           3       1.00      1.00      1.00      8205\n",
      "           4       1.00      1.00      1.00      1657\n",
      "           5       1.00      0.99      1.00      1101\n",
      "           6       1.00      1.00      1.00       678\n",
      "           7       1.00      0.99      1.00       491\n",
      "           8       1.00      1.00      1.00       783\n",
      "           9       1.00      1.00      1.00       133\n",
      "          10       1.00      1.00      1.00      1378\n",
      "          11       1.00      1.00      1.00      2287\n",
      "          12       1.00      1.00      1.00      1857\n",
      "          13       1.00      1.00      1.00       435\n",
      "          14       1.00      1.00      1.00       588\n",
      "          15       1.00      1.00      1.00       353\n",
      "          16       1.00      1.00      1.00       801\n",
      "          17       1.00      1.00      1.00      1010\n",
      "          18       1.00      0.99      1.00      2707\n",
      "          19       1.00      1.00      1.00      1399\n",
      "          20       1.00      1.00      1.00      1041\n",
      "          21       1.00      1.00      1.00      1127\n",
      "          22       1.00      1.00      1.00       521\n",
      "          23       1.00      1.00      1.00       244\n",
      "          24       1.00      1.00      1.00       351\n",
      "          25       1.00      1.00      1.00       221\n",
      "          26       1.00      1.00      1.00       374\n",
      "          27       1.00      1.00      1.00       976\n",
      "          28       1.00      1.00      1.00      5636\n",
      "          29       1.00      1.00      1.00      1775\n",
      "          30       1.00      1.00      1.00      1952\n",
      "          31       1.00      1.00      1.00       343\n",
      "          32       1.00      1.00      1.00      2032\n",
      "          33       1.00      0.99      1.00       539\n",
      "          34       1.00      1.00      1.00      1145\n",
      "          35       1.00      1.00      1.00      3896\n",
      "\n",
      "   micro avg       1.00      1.00      1.00     66791\n",
      "   macro avg       1.00      1.00      1.00     66791\n",
      "weighted avg       1.00      1.00      1.00     66791\n",
      " samples avg       0.76      0.76      0.76     66791\n",
      "\n",
      "Accuracy for each output: [0.9984233546943343, 0.9989828094802157, 0.9999491404740107, 0.9987793713762587, 0.9995931237920862, 0.9996948428440647, 0.9999491404740107, 0.9998474214220323, 0.9999491404740107, 1.0, 1.0, 0.9998982809480216, 0.9998982809480216, 1.0, 0.9999491404740107, 1.0, 0.9999491404740107, 0.9999491404740107, 0.9990336690062048, 0.9997457023700539, 0.9997457023700539, 0.9998982809480216, 0.9999491404740107, 1.0, 0.9999491404740107, 1.0, 0.9999491404740107, 0.9997457023700539, 0.9995931237920862, 0.9997457023700539, 0.9998474214220323, 1.0, 0.9995931237920862, 0.9998474214220323, 0.9999491404740107, 0.9988810904282373]\n"
     ]
    },
    {
     "name": "stderr",
     "output_type": "stream",
     "text": [
      "/home/arjunanl/.virtualenv/usecase/lib/python3.6/site-packages/sklearn/metrics/_classification.py:1248: UndefinedMetricWarning: Precision and F-score are ill-defined and being set to 0.0 in samples with no predicted labels. Use `zero_division` parameter to control this behavior.\n",
      "  _warn_prf(average, modifier, msg_start, len(result))\n",
      "/home/arjunanl/.virtualenv/usecase/lib/python3.6/site-packages/sklearn/metrics/_classification.py:1248: UndefinedMetricWarning: Recall and F-score are ill-defined and being set to 0.0 in samples with no true labels. Use `zero_division` parameter to control this behavior.\n",
      "  _warn_prf(average, modifier, msg_start, len(result))\n"
     ]
    }
   ],
   "source": [
    "calculate_model_metrics(X_train, y_train, y_train_pred)"
   ]
  },
  {
   "cell_type": "code",
   "execution_count": 44,
   "metadata": {
    "ExecuteTime": {
     "end_time": "2024-05-20T15:38:17.752053Z",
     "start_time": "2024-05-20T15:37:49.677155Z"
    }
   },
   "outputs": [],
   "source": [
    "# metrics on test\n",
    "y_pred = pipeline.predict(X_test)"
   ]
  },
  {
   "cell_type": "code",
   "execution_count": 45,
   "metadata": {
    "ExecuteTime": {
     "end_time": "2024-05-20T15:38:17.830836Z",
     "start_time": "2024-05-20T15:38:17.754428Z"
    },
    "scrolled": true
   },
   "outputs": [
    {
     "name": "stdout",
     "output_type": "stream",
     "text": [
      "Accuracy: 0.27586206896551724\n",
      "Classification Report:\n",
      "              precision    recall  f1-score   support\n",
      "\n",
      "           0       0.84      0.95      0.89      5034\n",
      "           1       0.86      0.55      0.67      1175\n",
      "           2       1.00      0.56      0.72        98\n",
      "           3       0.77      0.69      0.73      2843\n",
      "           4       0.81      0.16      0.27       615\n",
      "           5       0.89      0.23      0.37       400\n",
      "           6       0.93      0.29      0.45       234\n",
      "           7       0.96      0.33      0.49       168\n",
      "           8       0.93      0.25      0.39       265\n",
      "           9       1.00      1.00      1.00        55\n",
      "          10       0.91      0.45      0.60       482\n",
      "          11       0.87      0.65      0.74       824\n",
      "          12       0.87      0.44      0.59       645\n",
      "          13       0.93      0.42      0.58       158\n",
      "          14       0.98      0.30      0.46       204\n",
      "          15       0.98      0.42      0.59       133\n",
      "          16       0.98      0.22      0.36       262\n",
      "          17       0.87      0.28      0.42       372\n",
      "          18       0.84      0.10      0.18       927\n",
      "          19       0.93      0.11      0.20       494\n",
      "          20       0.91      0.24      0.38       348\n",
      "          21       0.91      0.24      0.38       394\n",
      "          22       0.97      0.28      0.44       199\n",
      "          23       1.00      0.53      0.70       103\n",
      "          24       1.00      0.46      0.63       120\n",
      "          25       1.00      0.63      0.77        87\n",
      "          26       1.00      0.45      0.62       123\n",
      "          27       0.95      0.15      0.27       363\n",
      "          28       0.86      0.70      0.77      1849\n",
      "          29       0.92      0.57      0.71       568\n",
      "          30       0.83      0.55      0.66       679\n",
      "          31       1.00      0.46      0.63       127\n",
      "          32       0.90      0.80      0.85       611\n",
      "          33       0.96      0.37      0.53       179\n",
      "          34       0.88      0.17      0.28       419\n",
      "          35       0.82      0.39      0.53      1367\n",
      "\n",
      "   micro avg       0.85      0.57      0.68     22924\n",
      "   macro avg       0.92      0.43      0.55     22924\n",
      "weighted avg       0.86      0.57      0.64     22924\n",
      " samples avg       0.67      0.48      0.52     22924\n",
      "\n",
      "Accuracy for each output: [0.8216356423558132, 0.9021971315227342, 0.9934391211473909, 0.7792187976808056, 0.9179127250534025, 0.9514800122062862, 0.9740616417454989, 0.9824534635337199, 0.9687213915166311, 1.0, 0.9562099481232835, 0.9435459261519683, 0.938815990234971, 0.9851998779371376, 0.9780286847726579, 0.988098870918523, 0.9685688129386634, 0.9568202624351541, 0.8698504729935918, 0.9325602685382972, 0.9584986267927983, 0.9528532194079952, 0.9778761061946902, 0.9926762282575526, 0.9900823924321025, 0.9951174855050351, 0.9896246566981995, 0.9527006408300275, 0.882514494964907, 0.958651205370766, 0.9418675617943241, 0.989472078120232, 0.9732987488556607, 0.9823008849557522, 0.9453768690875801, 0.8548977723527617]\n"
     ]
    },
    {
     "name": "stderr",
     "output_type": "stream",
     "text": [
      "/home/arjunanl/.virtualenv/usecase/lib/python3.6/site-packages/sklearn/metrics/_classification.py:1248: UndefinedMetricWarning: Precision and F-score are ill-defined and being set to 0.0 in samples with no predicted labels. Use `zero_division` parameter to control this behavior.\n",
      "  _warn_prf(average, modifier, msg_start, len(result))\n",
      "/home/arjunanl/.virtualenv/usecase/lib/python3.6/site-packages/sklearn/metrics/_classification.py:1248: UndefinedMetricWarning: Recall and F-score are ill-defined and being set to 0.0 in samples with no true labels. Use `zero_division` parameter to control this behavior.\n",
      "  _warn_prf(average, modifier, msg_start, len(result))\n"
     ]
    }
   ],
   "source": [
    "calculate_model_metrics(X_test, y_test, y_pred)"
   ]
  },
  {
   "cell_type": "code",
   "execution_count": null,
   "metadata": {},
   "outputs": [],
   "source": []
  },
  {
   "cell_type": "code",
   "execution_count": null,
   "metadata": {},
   "outputs": [],
   "source": []
  },
  {
   "cell_type": "markdown",
   "metadata": {},
   "source": [
    "### 6. Improve your model\n",
    "Use grid search to find better parameters. "
   ]
  },
  {
   "cell_type": "code",
   "execution_count": 378,
   "metadata": {
    "ExecuteTime": {
     "end_time": "2024-05-19T17:12:17.859272Z",
     "start_time": "2024-05-19T17:12:17.828669Z"
    },
    "scrolled": true
   },
   "outputs": [
    {
     "data": {
      "text/plain": [
       "{'memory': None,\n",
       " 'steps': [('features',\n",
       "   FeatureUnion(transformer_list=[('text_pipeline',\n",
       "                                   Pipeline(steps=[('vect',\n",
       "                                                    CountVectorizer(tokenizer=<function tokenize at 0x7fb6f14fc8c8>)),\n",
       "                                                   ('tfidf',\n",
       "                                                    TfidfTransformer(smooth_idf=False))]))])),\n",
       "  ('clf', MultiOutputClassifier(estimator=RandomForestClassifier()))],\n",
       " 'verbose': False,\n",
       " 'features': FeatureUnion(transformer_list=[('text_pipeline',\n",
       "                                 Pipeline(steps=[('vect',\n",
       "                                                  CountVectorizer(tokenizer=<function tokenize at 0x7fb6f14fc8c8>)),\n",
       "                                                 ('tfidf',\n",
       "                                                  TfidfTransformer(smooth_idf=False))]))]),\n",
       " 'clf': MultiOutputClassifier(estimator=RandomForestClassifier()),\n",
       " 'features__n_jobs': None,\n",
       " 'features__transformer_list': [('text_pipeline',\n",
       "   Pipeline(steps=[('vect',\n",
       "                    CountVectorizer(tokenizer=<function tokenize at 0x7fb6f14fc8c8>)),\n",
       "                   ('tfidf', TfidfTransformer(smooth_idf=False))]))],\n",
       " 'features__transformer_weights': None,\n",
       " 'features__verbose': False,\n",
       " 'features__text_pipeline': Pipeline(steps=[('vect',\n",
       "                  CountVectorizer(tokenizer=<function tokenize at 0x7fb6f14fc8c8>)),\n",
       "                 ('tfidf', TfidfTransformer(smooth_idf=False))]),\n",
       " 'features__text_pipeline__memory': None,\n",
       " 'features__text_pipeline__steps': [('vect',\n",
       "   CountVectorizer(tokenizer=<function tokenize at 0x7fb6f14fc8c8>)),\n",
       "  ('tfidf', TfidfTransformer(smooth_idf=False))],\n",
       " 'features__text_pipeline__verbose': False,\n",
       " 'features__text_pipeline__vect': CountVectorizer(tokenizer=<function tokenize at 0x7fb6f14fc8c8>),\n",
       " 'features__text_pipeline__tfidf': TfidfTransformer(smooth_idf=False),\n",
       " 'features__text_pipeline__vect__analyzer': 'word',\n",
       " 'features__text_pipeline__vect__binary': False,\n",
       " 'features__text_pipeline__vect__decode_error': 'strict',\n",
       " 'features__text_pipeline__vect__dtype': numpy.int64,\n",
       " 'features__text_pipeline__vect__encoding': 'utf-8',\n",
       " 'features__text_pipeline__vect__input': 'content',\n",
       " 'features__text_pipeline__vect__lowercase': True,\n",
       " 'features__text_pipeline__vect__max_df': 1.0,\n",
       " 'features__text_pipeline__vect__max_features': None,\n",
       " 'features__text_pipeline__vect__min_df': 1,\n",
       " 'features__text_pipeline__vect__ngram_range': (1, 1),\n",
       " 'features__text_pipeline__vect__preprocessor': None,\n",
       " 'features__text_pipeline__vect__stop_words': None,\n",
       " 'features__text_pipeline__vect__strip_accents': None,\n",
       " 'features__text_pipeline__vect__token_pattern': '(?u)\\\\b\\\\w\\\\w+\\\\b',\n",
       " 'features__text_pipeline__vect__tokenizer': <function __main__.tokenize(text)>,\n",
       " 'features__text_pipeline__vect__vocabulary': None,\n",
       " 'features__text_pipeline__tfidf__norm': 'l2',\n",
       " 'features__text_pipeline__tfidf__smooth_idf': False,\n",
       " 'features__text_pipeline__tfidf__sublinear_tf': False,\n",
       " 'features__text_pipeline__tfidf__use_idf': True,\n",
       " 'clf__estimator__bootstrap': True,\n",
       " 'clf__estimator__ccp_alpha': 0.0,\n",
       " 'clf__estimator__class_weight': None,\n",
       " 'clf__estimator__criterion': 'gini',\n",
       " 'clf__estimator__max_depth': None,\n",
       " 'clf__estimator__max_features': 'auto',\n",
       " 'clf__estimator__max_leaf_nodes': None,\n",
       " 'clf__estimator__max_samples': None,\n",
       " 'clf__estimator__min_impurity_decrease': 0.0,\n",
       " 'clf__estimator__min_impurity_split': None,\n",
       " 'clf__estimator__min_samples_leaf': 1,\n",
       " 'clf__estimator__min_samples_split': 2,\n",
       " 'clf__estimator__min_weight_fraction_leaf': 0.0,\n",
       " 'clf__estimator__n_estimators': 100,\n",
       " 'clf__estimator__n_jobs': None,\n",
       " 'clf__estimator__oob_score': False,\n",
       " 'clf__estimator__random_state': None,\n",
       " 'clf__estimator__verbose': 0,\n",
       " 'clf__estimator__warm_start': False,\n",
       " 'clf__estimator': RandomForestClassifier(),\n",
       " 'clf__n_jobs': None}"
      ]
     },
     "execution_count": 378,
     "metadata": {},
     "output_type": "execute_result"
    }
   ],
   "source": [
    "pipeline.get_params()"
   ]
  },
  {
   "cell_type": "code",
   "execution_count": 379,
   "metadata": {
    "ExecuteTime": {
     "end_time": "2024-05-19T17:12:17.865633Z",
     "start_time": "2024-05-19T17:12:17.861845Z"
    }
   },
   "outputs": [],
   "source": [
    "from sklearn.model_selection import GridSearchCV\n",
    "parameters = {\n",
    "    'features__text_pipeline__vect__ngram_range': ((1, 1), (1, 2)),\n",
    "    'clf__estimator__n_estimators': [50, 100],\n",
    "    'clf__estimator__min_samples_split': [5, 10]\n",
    "}\n",
    "\n",
    "cv = GridSearchCV(pipeline, param_grid=parameters) #n_jobs = -1)"
   ]
  },
  {
   "cell_type": "code",
   "execution_count": null,
   "metadata": {
    "ExecuteTime": {
     "start_time": "2024-05-19T17:03:43.072Z"
    }
   },
   "outputs": [
    {
     "name": "stdout",
     "output_type": "stream",
     "text": [
      "start time:  2024-05-19 19:12:17.869808\n"
     ]
    }
   ],
   "source": [
    "import datetime\n",
    "print(\"start time: \", datetime.datetime.now())\n",
    "cv.fit(X_train, y_train)\n",
    "print(\"end_time: \", datetime.datetime.now())"
   ]
  },
  {
   "cell_type": "code",
   "execution_count": 398,
   "metadata": {
    "ExecuteTime": {
     "end_time": "2024-05-20T05:00:47.083973Z",
     "start_time": "2024-05-20T05:00:47.079482Z"
    }
   },
   "outputs": [
    {
     "name": "stdout",
     "output_type": "stream",
     "text": [
      "\n",
      "Best Parameters: {'clf__estimator__min_samples_split': 5, 'clf__estimator__n_estimators': 100, 'features__text_pipeline__vect__ngram_range': (1, 2)}\n"
     ]
    }
   ],
   "source": [
    "print(\"\\nBest Parameters:\", cv.best_params_)"
   ]
  },
  {
   "cell_type": "code",
   "execution_count": null,
   "metadata": {},
   "outputs": [],
   "source": []
  },
  {
   "cell_type": "markdown",
   "metadata": {},
   "source": [
    "### 7. Test your model\n",
    "Show the accuracy, precision, and recall of the tuned model.  \n",
    "\n",
    "Since this project focuses on code quality, process, and  pipelines, there is no minimum performance metric needed to pass. However, make sure to fine tune your models for accuracy, precision and recall to make your project stand out - especially for your portfolio!"
   ]
  },
  {
   "cell_type": "code",
   "execution_count": 394,
   "metadata": {
    "ExecuteTime": {
     "end_time": "2024-05-20T04:56:30.191645Z",
     "start_time": "2024-05-20T04:56:30.187863Z"
    }
   },
   "outputs": [],
   "source": [
    "best_estimator = cv.best_estimator_"
   ]
  },
  {
   "cell_type": "code",
   "execution_count": 395,
   "metadata": {
    "ExecuteTime": {
     "end_time": "2024-05-20T04:56:32.318341Z",
     "start_time": "2024-05-20T04:56:32.313580Z"
    }
   },
   "outputs": [
    {
     "data": {
      "text/plain": [
       "sklearn.pipeline.Pipeline"
      ]
     },
     "execution_count": 395,
     "metadata": {},
     "output_type": "execute_result"
    }
   ],
   "source": [
    "type(best_estimator)"
   ]
  },
  {
   "cell_type": "code",
   "execution_count": 396,
   "metadata": {
    "ExecuteTime": {
     "end_time": "2024-05-20T04:59:46.172227Z",
     "start_time": "2024-05-20T04:56:34.994398Z"
    },
    "scrolled": true
   },
   "outputs": [
    {
     "name": "stdout",
     "output_type": "stream",
     "text": [
      "Accuracy: 0.9781812633506256\n",
      "Classification Report:\n",
      "              precision    recall  f1-score   support\n",
      "\n",
      "           0       1.00      1.00      1.00     15113\n",
      "           1       1.00      0.99      1.00      3525\n",
      "           2       1.00      0.94      0.97       220\n",
      "           3       1.00      1.00      1.00      8309\n",
      "           4       1.00      0.99      0.99      1706\n",
      "           5       1.00      0.98      0.99      1118\n",
      "           6       1.00      0.97      0.99       679\n",
      "           7       1.00      0.97      0.98       486\n",
      "           8       1.00      0.99      0.99       789\n",
      "           9       1.00      1.00      1.00       133\n",
      "          10       1.00      0.99      1.00      1382\n",
      "          11       1.00      1.00      1.00      2338\n",
      "          12       1.00      1.00      1.00      1872\n",
      "          13       1.00      0.97      0.99       419\n",
      "          14       1.00      0.99      0.99       566\n",
      "          15       1.00      0.95      0.97       357\n",
      "          16       1.00      0.98      0.99       791\n",
      "          17       1.00      0.99      0.99      1037\n",
      "          18       1.00      0.99      0.99      2702\n",
      "          19       1.00      0.98      0.99      1400\n",
      "          20       1.00      0.98      0.99      1055\n",
      "          21       1.00      0.99      0.99      1132\n",
      "          22       1.00      0.98      0.99       526\n",
      "          23       1.00      0.95      0.97       241\n",
      "          24       1.00      0.95      0.98       346\n",
      "          25       1.00      0.94      0.97       216\n",
      "          26       1.00      0.95      0.97       357\n",
      "          27       1.00      0.98      0.99       994\n",
      "          28       1.00      1.00      1.00      5631\n",
      "          29       1.00      0.99      0.99      1764\n",
      "          30       1.00      1.00      1.00      1980\n",
      "          31       1.00      0.98      0.99       345\n",
      "          32       1.00      1.00      1.00      1969\n",
      "          33       1.00      0.99      0.99       537\n",
      "          34       1.00      0.98      0.99      1185\n",
      "          35       1.00      0.99      1.00      3987\n",
      "\n",
      "   micro avg       1.00      0.99      1.00     67207\n",
      "   macro avg       1.00      0.98      0.99     67207\n",
      "weighted avg       1.00      0.99      1.00     67207\n",
      " samples avg       0.77      0.76      0.76     67207\n",
      "\n",
      "Accuracy for each output: [0.9975587427525175, 0.9984742142203235, 0.9992879666361509, 0.9981690570643882, 0.9988810904282373, 0.9989828094802157, 0.9990845285321941, 0.9991862475841725, 0.9994914047401078, 1.0, 0.9996439833180755, 0.9997965618960432, 0.999542264266097, 0.9993896856881294, 0.9996439833180755, 0.9990336690062048, 0.9990336690062048, 0.9993388261621402, 0.9980673380124098, 0.998830230902248, 0.9987285118502696, 0.9993388261621402, 0.9994914047401078, 0.9993896856881294, 0.9991862475841725, 0.9992879666361509, 0.9990845285321941, 0.9989828094802157, 0.9986776523242803, 0.9987793713762587, 0.9996948428440647, 0.9996439833180755, 0.9992371071101618, 0.9996948428440647, 0.9988810904282373, 0.9986776523242803]\n"
     ]
    },
    {
     "name": "stderr",
     "output_type": "stream",
     "text": [
      "/home/arjunanl/.virtualenv/usecase/lib/python3.6/site-packages/sklearn/metrics/_classification.py:1248: UndefinedMetricWarning:\n",
      "\n",
      "Precision and F-score are ill-defined and being set to 0.0 in samples with no predicted labels. Use `zero_division` parameter to control this behavior.\n",
      "\n",
      "/home/arjunanl/.virtualenv/usecase/lib/python3.6/site-packages/sklearn/metrics/_classification.py:1248: UndefinedMetricWarning:\n",
      "\n",
      "Recall and F-score are ill-defined and being set to 0.0 in samples with no true labels. Use `zero_division` parameter to control this behavior.\n",
      "\n"
     ]
    }
   ],
   "source": [
    "# check performance on train vs test \n",
    "y_pred_train = best_estimator.predict(X_train)\n",
    "calculate_model_metrics(X_train, y_train, y_pred_train)"
   ]
  },
  {
   "cell_type": "code",
   "execution_count": 397,
   "metadata": {
    "ExecuteTime": {
     "end_time": "2024-05-20T05:00:47.076194Z",
     "start_time": "2024-05-20T04:59:46.175042Z"
    },
    "scrolled": true
   },
   "outputs": [
    {
     "name": "stdout",
     "output_type": "stream",
     "text": [
      "Accuracy: 0.2802868477265792\n",
      "Classification Report:\n",
      "              precision    recall  f1-score   support\n",
      "\n",
      "           0       0.84      0.94      0.89      4981\n",
      "           1       0.80      0.54      0.65      1137\n",
      "           2       1.00      0.64      0.78        86\n",
      "           3       0.78      0.68      0.72      2739\n",
      "           4       0.87      0.17      0.29       566\n",
      "           5       0.93      0.24      0.38       383\n",
      "           6       0.94      0.29      0.45       233\n",
      "           7       0.98      0.32      0.48       173\n",
      "           8       0.90      0.24      0.38       259\n",
      "           9       1.00      1.00      1.00        55\n",
      "          10       0.87      0.48      0.62       478\n",
      "          11       0.88      0.57      0.69       773\n",
      "          12       0.88      0.39      0.54       630\n",
      "          13       0.98      0.34      0.51       174\n",
      "          14       0.98      0.28      0.43       226\n",
      "          15       0.97      0.43      0.60       129\n",
      "          16       0.98      0.22      0.36       272\n",
      "          17       0.91      0.29      0.44       345\n",
      "          18       0.81      0.10      0.17       932\n",
      "          19       0.88      0.11      0.20       493\n",
      "          20       0.91      0.22      0.36       334\n",
      "          21       0.90      0.25      0.40       389\n",
      "          22       1.00      0.32      0.48       194\n",
      "          23       1.00      0.52      0.68       106\n",
      "          24       1.00      0.44      0.61       125\n",
      "          25       1.00      0.60      0.75        92\n",
      "          26       1.00      0.39      0.56       140\n",
      "          27       0.90      0.16      0.27       345\n",
      "          28       0.85      0.69      0.76      1854\n",
      "          29       0.92      0.45      0.60       579\n",
      "          30       0.79      0.47      0.59       651\n",
      "          31       1.00      0.44      0.61       125\n",
      "          32       0.88      0.78      0.83       674\n",
      "          33       1.00      0.34      0.50       181\n",
      "          34       0.84      0.19      0.31       379\n",
      "          35       0.79      0.42      0.55      1276\n",
      "\n",
      "   micro avg       0.84      0.56      0.67     22508\n",
      "   macro avg       0.92      0.42      0.54     22508\n",
      "weighted avg       0.86      0.56      0.63     22508\n",
      " samples avg       0.66      0.47      0.50     22508\n",
      "\n",
      "Accuracy for each output: [0.821330485199878, 0.897009459871834, 0.9952700640830028, 0.7839487335978028, 0.9264571254195911, 0.9545315837656393, 0.9742142203234666, 0.9818431492218492, 0.9688739700945987, 1.0, 0.9568202624351541, 0.9398840402807446, 0.9363747329874885, 0.9824534635337199, 0.9749771132133048, 0.988556606652426, 0.9675007628928899, 0.9609398840402807, 0.8683246872139152, 0.9321025328043943, 0.9594140982606042, 0.9540738480317363, 0.9798596277082697, 0.9922184925236497, 0.9893194995422643, 0.9943545926151969, 0.9870308208727495, 0.9548367409215746, 0.8773268233140067, 0.9478181263350626, 0.9350015257857797, 0.9893194995422643, 0.9665852914250839, 0.9816905706438815, 0.9511748550503509, 0.8654256942325298]\n"
     ]
    },
    {
     "name": "stderr",
     "output_type": "stream",
     "text": [
      "/home/arjunanl/.virtualenv/usecase/lib/python3.6/site-packages/sklearn/metrics/_classification.py:1248: UndefinedMetricWarning:\n",
      "\n",
      "Precision and F-score are ill-defined and being set to 0.0 in samples with no predicted labels. Use `zero_division` parameter to control this behavior.\n",
      "\n",
      "/home/arjunanl/.virtualenv/usecase/lib/python3.6/site-packages/sklearn/metrics/_classification.py:1248: UndefinedMetricWarning:\n",
      "\n",
      "Recall and F-score are ill-defined and being set to 0.0 in samples with no true labels. Use `zero_division` parameter to control this behavior.\n",
      "\n"
     ]
    }
   ],
   "source": [
    "y_pred = best_estimator.predict(X_test)\n",
    "calculate_model_metrics(X_test, y_test, y_pred)"
   ]
  },
  {
   "cell_type": "markdown",
   "metadata": {},
   "source": [
    "### 8. Try improving your model further. Here are a few ideas:\n",
    "* try other machine learning algorithms\n",
    "* add other features besides the TF-IDF"
   ]
  },
  {
   "cell_type": "code",
   "execution_count": 46,
   "metadata": {
    "ExecuteTime": {
     "end_time": "2024-05-20T15:38:17.837909Z",
     "start_time": "2024-05-20T15:38:17.832504Z"
    }
   },
   "outputs": [],
   "source": [
    "def test_other_algorithms(X_train, y_train, X_test, y_test, classifier):\n",
    "    update_pipeline = Pipeline([\n",
    "        ('features', FeatureUnion([\n",
    "\n",
    "            ('text_pipeline', Pipeline([\n",
    "                ('vect', CountVectorizer(tokenizer=tokenize, ngram_range = (1,2))),\n",
    "                ('tfidf', TfidfTransformer(smooth_idf=False))\n",
    "            ])),\n",
    "        ])),\n",
    "\n",
    "        ('clf', classifier)\n",
    "    ])\n",
    "    \n",
    "    update_pipeline.fit(X_train, y_train)\n",
    "    \n",
    "    # predict on test\n",
    "    y_pred = update_pipeline.predict(X_test)\n",
    "    \n",
    "    calculate_model_metrics(X_test, y_test, y_pred)\n",
    "    \n",
    "    return update_pipeline\n",
    "    "
   ]
  },
  {
   "cell_type": "code",
   "execution_count": 400,
   "metadata": {
    "ExecuteTime": {
     "end_time": "2024-05-20T05:48:23.310135Z",
     "start_time": "2024-05-20T05:48:23.304659Z"
    }
   },
   "outputs": [],
   "source": [
    "# test K neighbors\n",
    "from sklearn.multioutput import MultiOutputClassifier\n",
    "from sklearn.neighbors import KNeighborsClassifier\n",
    "classifier = MultiOutputClassifier(KNeighborsClassifier())"
   ]
  },
  {
   "cell_type": "code",
   "execution_count": 401,
   "metadata": {
    "ExecuteTime": {
     "end_time": "2024-05-20T05:53:20.388145Z",
     "start_time": "2024-05-20T05:48:23.506186Z"
    },
    "scrolled": true
   },
   "outputs": [
    {
     "name": "stdout",
     "output_type": "stream",
     "text": [
      "Accuracy: 0.24351541043637473\n",
      "Classification Report:\n",
      "              precision    recall  f1-score   support\n",
      "\n",
      "           0       0.81      0.94      0.87      4981\n",
      "           1       0.72      0.46      0.56      1137\n",
      "           2       0.73      0.64      0.68        86\n",
      "           3       0.69      0.45      0.54      2739\n",
      "           4       0.59      0.16      0.25       566\n",
      "           5       0.71      0.21      0.32       383\n",
      "           6       0.77      0.30      0.43       233\n",
      "           7       0.73      0.33      0.45       173\n",
      "           8       0.70      0.31      0.42       259\n",
      "           9       0.73      1.00      0.85        55\n",
      "          10       0.74      0.29      0.42       478\n",
      "          11       0.75      0.36      0.49       773\n",
      "          12       0.71      0.21      0.33       630\n",
      "          13       0.74      0.38      0.50       174\n",
      "          14       0.71      0.27      0.39       226\n",
      "          15       0.73      0.43      0.54       129\n",
      "          16       0.71      0.23      0.35       272\n",
      "          17       0.68      0.27      0.39       345\n",
      "          18       0.49      0.12      0.20       932\n",
      "          19       0.63      0.13      0.22       493\n",
      "          20       0.67      0.22      0.33       334\n",
      "          21       0.67      0.23      0.34       389\n",
      "          22       0.74      0.32      0.45       194\n",
      "          23       0.75      0.53      0.62       106\n",
      "          24       0.73      0.44      0.55       125\n",
      "          25       0.75      0.61      0.67        92\n",
      "          26       0.73      0.39      0.51       140\n",
      "          27       0.63      0.17      0.27       345\n",
      "          28       0.74      0.47      0.57      1854\n",
      "          29       0.73      0.24      0.36       579\n",
      "          30       0.70      0.32      0.44       651\n",
      "          31       0.72      0.46      0.56       125\n",
      "          32       0.78      0.53      0.63       674\n",
      "          33       0.72      0.33      0.45       181\n",
      "          34       0.68      0.19      0.30       379\n",
      "          35       0.65      0.35      0.45      1276\n",
      "\n",
      "   micro avg       0.75      0.48      0.58     22508\n",
      "   macro avg       0.71      0.37      0.46     22508\n",
      "weighted avg       0.72      0.48      0.54     22508\n",
      " samples avg       0.65      0.42      0.45     22508\n",
      "\n",
      "Accuracy for each output: [0.7923405553860238, 0.8751907232224596, 0.9922184925236497, 0.6855355508086665, 0.9177601464754348, 0.9488861763808362, 0.9717729630759842, 0.9790967348184315, 0.9673481843149222, 0.9969484284406469, 0.9407995117485505, 0.9099786389990845, 0.9160817821177907, 0.9800122062862374, 0.9710100701861458, 0.9856576136710405, 0.9641440341776014, 0.9549893194995422, 0.8570338724443088, 0.9288983826670736, 0.9548367409215746, 0.9475129691791272, 0.9766554775709491, 0.989472078120232, 0.9862679279829112, 0.991608178211779, 0.9839792493133964, 0.9511748550503509, 0.8022581629539213, 0.9250839182178822, 0.9185230393652731, 0.9862679279829112, 0.9356118400976503, 0.9780286847726579, 0.9479707049130303, 0.8361306072627404]\n"
     ]
    },
    {
     "name": "stderr",
     "output_type": "stream",
     "text": [
      "/home/arjunanl/.virtualenv/usecase/lib/python3.6/site-packages/sklearn/metrics/_classification.py:1248: UndefinedMetricWarning:\n",
      "\n",
      "Precision and F-score are ill-defined and being set to 0.0 in samples with no predicted labels. Use `zero_division` parameter to control this behavior.\n",
      "\n",
      "/home/arjunanl/.virtualenv/usecase/lib/python3.6/site-packages/sklearn/metrics/_classification.py:1248: UndefinedMetricWarning:\n",
      "\n",
      "Recall and F-score are ill-defined and being set to 0.0 in samples with no true labels. Use `zero_division` parameter to control this behavior.\n",
      "\n"
     ]
    }
   ],
   "source": [
    "test_other_algorithms(X_train, y_train, X_test, y_test, classifier)"
   ]
  },
  {
   "cell_type": "code",
   "execution_count": 47,
   "metadata": {
    "ExecuteTime": {
     "end_time": "2024-05-20T15:44:45.757952Z",
     "start_time": "2024-05-20T15:38:17.840188Z"
    },
    "scrolled": true
   },
   "outputs": [
    {
     "name": "stdout",
     "output_type": "stream",
     "text": [
      "Accuracy: 0.26182483979249316\n",
      "Classification Report:\n",
      "              precision    recall  f1-score   support\n",
      "\n",
      "           0       0.83      0.96      0.89      5034\n",
      "           1       0.81      0.60      0.69      1175\n",
      "           2       1.00      0.56      0.72        98\n",
      "           3       0.75      0.72      0.74      2843\n",
      "           4       0.78      0.20      0.32       615\n",
      "           5       0.81      0.26      0.40       400\n",
      "           6       0.98      0.25      0.40       234\n",
      "           7       1.00      0.33      0.49       168\n",
      "           8       0.92      0.23      0.37       265\n",
      "           9       1.00      1.00      1.00        55\n",
      "          10       0.84      0.59      0.70       482\n",
      "          11       0.87      0.64      0.74       824\n",
      "          12       0.84      0.46      0.59       645\n",
      "          13       0.94      0.43      0.59       158\n",
      "          14       1.00      0.27      0.43       204\n",
      "          15       1.00      0.41      0.59       133\n",
      "          16       0.95      0.23      0.37       262\n",
      "          17       0.95      0.31      0.46       372\n",
      "          18       0.67      0.17      0.27       927\n",
      "          19       0.92      0.12      0.22       494\n",
      "          20       0.89      0.23      0.36       348\n",
      "          21       0.88      0.32      0.47       394\n",
      "          22       0.97      0.31      0.47       199\n",
      "          23       1.00      0.53      0.70       103\n",
      "          24       1.00      0.46      0.63       120\n",
      "          25       1.00      0.63      0.77        87\n",
      "          26       1.00      0.45      0.62       123\n",
      "          27       0.95      0.15      0.27       363\n",
      "          28       0.83      0.67      0.74      1849\n",
      "          29       0.92      0.45      0.61       568\n",
      "          30       0.82      0.50      0.62       679\n",
      "          31       1.00      0.44      0.61       127\n",
      "          32       0.91      0.64      0.75       611\n",
      "          33       0.97      0.32      0.49       179\n",
      "          34       0.98      0.14      0.24       419\n",
      "          35       0.76      0.50      0.60      1367\n",
      "\n",
      "   micro avg       0.83      0.59      0.69     22924\n",
      "   macro avg       0.91      0.43      0.55     22924\n",
      "weighted avg       0.84      0.59      0.65     22924\n",
      " samples avg       0.67      0.50      0.52     22924\n",
      "\n",
      "Accuracy for each output: [0.8187366493744278, 0.9021971315227342, 0.9934391211473909, 0.7770826975892585, 0.9195910894110467, 0.9513274336283186, 0.9729935916997253, 0.9827586206896551, 0.9681110772047604, 1.0, 0.961702776930119, 0.942325297528227, 0.9382056759231004, 0.9856576136710405, 0.9774183704607873, 0.988098870918523, 0.9687213915166311, 0.9597192554165395, 0.8709185230393652, 0.9331705828501679, 0.9574305767470247, 0.9563625267012511, 0.9786389990845286, 0.9926762282575526, 0.9900823924321025, 0.9951174855050351, 0.9896246566981995, 0.9527006408300275, 0.8687824229478182, 0.9491913335367714, 0.9365273115654562, 0.9891669209642966, 0.9601769911504425, 0.9812328349099786, 0.9447665547757095, 0.8631370155630149]\n"
     ]
    },
    {
     "name": "stderr",
     "output_type": "stream",
     "text": [
      "/home/arjunanl/.virtualenv/usecase/lib/python3.6/site-packages/sklearn/metrics/_classification.py:1248: UndefinedMetricWarning: Precision and F-score are ill-defined and being set to 0.0 in samples with no predicted labels. Use `zero_division` parameter to control this behavior.\n",
      "  _warn_prf(average, modifier, msg_start, len(result))\n",
      "/home/arjunanl/.virtualenv/usecase/lib/python3.6/site-packages/sklearn/metrics/_classification.py:1248: UndefinedMetricWarning: Recall and F-score are ill-defined and being set to 0.0 in samples with no true labels. Use `zero_division` parameter to control this behavior.\n",
      "  _warn_prf(average, modifier, msg_start, len(result))\n"
     ]
    }
   ],
   "source": [
    "# test logistic regression\n",
    "from sklearn.linear_model import LogisticRegression\n",
    "classifier = MultiOutputClassifier(LogisticRegression())\n",
    "\n",
    "log_reg_pipeline = test_other_algorithms(X_train, y_train, X_test, y_test, classifier)"
   ]
  },
  {
   "cell_type": "markdown",
   "metadata": {},
   "source": [
    "### 9. Export your model as a pickle file"
   ]
  },
  {
   "cell_type": "code",
   "execution_count": 50,
   "metadata": {
    "ExecuteTime": {
     "end_time": "2024-05-20T15:48:06.793356Z",
     "start_time": "2024-05-20T15:48:06.790091Z"
    },
    "scrolled": true
   },
   "outputs": [],
   "source": [
    "import joblib\n",
    "joblib.dump(best_estimator, 'model.pkl')"
   ]
  },
  {
   "cell_type": "code",
   "execution_count": 51,
   "metadata": {
    "ExecuteTime": {
     "end_time": "2024-05-20T15:48:20.052408Z",
     "start_time": "2024-05-20T15:48:16.278262Z"
    }
   },
   "outputs": [],
   "source": [
    "# test loading model \n",
    "loaded_model = joblib.load('model.pkl')"
   ]
  },
  {
   "cell_type": "markdown",
   "metadata": {},
   "source": [
    "### 10. Use this notebook to complete `train_classifier.py`\n",
    "Use the template file attached in the Resources folder to write a script that runs the steps above to create a database and export a model based on a new dataset specified by the user."
   ]
  },
  {
   "cell_type": "markdown",
   "metadata": {},
   "source": [
    "# References\n",
    "* Udacity course content\n",
    "* https://stackoverflow.com/questions/71902957/how-to-use-gridsearchcv-with-multioutputclassifiermlpclassifier-pipeline"
   ]
  },
  {
   "cell_type": "code",
   "execution_count": null,
   "metadata": {},
   "outputs": [],
   "source": []
  }
 ],
 "metadata": {
  "kernelspec": {
   "display_name": "Python 3",
   "language": "python",
   "name": "python3"
  },
  "language_info": {
   "codemirror_mode": {
    "name": "ipython",
    "version": 3
   },
   "file_extension": ".py",
   "mimetype": "text/x-python",
   "name": "python",
   "nbconvert_exporter": "python",
   "pygments_lexer": "ipython3",
   "version": "3.6.13"
  }
 },
 "nbformat": 4,
 "nbformat_minor": 2
}
