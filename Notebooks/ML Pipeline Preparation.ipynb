{
 "cells": [
  {
   "cell_type": "markdown",
   "metadata": {},
   "source": [
    "# ML Pipeline Preparation\n",
    "Follow the instructions below to help you create your ML pipeline.\n",
    "### 1. Import libraries and load data from database.\n",
    "- Import Python libraries\n",
    "- Load dataset from database with [`read_sql_table`](https://pandas.pydata.org/pandas-docs/stable/generated/pandas.read_sql_table.html)\n",
    "- Define feature and target variables X and Y"
   ]
  },
  {
   "cell_type": "code",
   "execution_count": 155,
   "metadata": {
    "ExecuteTime": {
     "end_time": "2024-05-18T18:17:43.123025Z",
     "start_time": "2024-05-18T18:17:43.120051Z"
    }
   },
   "outputs": [],
   "source": [
    "# import libraries\n",
    "import pandas as pd\n",
    "pd.set_option(\"max_colwidth\", 500)\n",
    "from sqlalchemy import create_engine"
   ]
  },
  {
   "cell_type": "code",
   "execution_count": 156,
   "metadata": {
    "ExecuteTime": {
     "end_time": "2024-05-18T18:17:43.355853Z",
     "start_time": "2024-05-18T18:17:43.353403Z"
    }
   },
   "outputs": [],
   "source": [
    "import datetime"
   ]
  },
  {
   "cell_type": "code",
   "execution_count": 157,
   "metadata": {
    "ExecuteTime": {
     "end_time": "2024-05-18T18:17:43.650389Z",
     "start_time": "2024-05-18T18:17:43.647389Z"
    }
   },
   "outputs": [],
   "source": [
    "import sys\n",
    "import numpy\n",
    "numpy.set_printoptions(threshold=sys.maxsize)"
   ]
  },
  {
   "cell_type": "code",
   "execution_count": 158,
   "metadata": {
    "ExecuteTime": {
     "end_time": "2024-05-18T18:17:44.762573Z",
     "start_time": "2024-05-18T18:17:43.952868Z"
    }
   },
   "outputs": [],
   "source": [
    "# load data from database\n",
    "engine = create_engine('sqlite:///la_udacity_project.db')\n",
    "query = \"SELECT * FROM disaster_response_data\"\n",
    "df = pd.read_sql_query(query, engine)\n"
   ]
  },
  {
   "cell_type": "code",
   "execution_count": 159,
   "metadata": {
    "ExecuteTime": {
     "end_time": "2024-05-18T18:17:44.903821Z",
     "start_time": "2024-05-18T18:17:44.900380Z"
    }
   },
   "outputs": [
    {
     "data": {
      "text/plain": [
       "(26216, 40)"
      ]
     },
     "execution_count": 159,
     "metadata": {},
     "output_type": "execute_result"
    }
   ],
   "source": [
    "df.shape"
   ]
  },
  {
   "cell_type": "code",
   "execution_count": 160,
   "metadata": {
    "ExecuteTime": {
     "end_time": "2024-05-18T18:17:45.197384Z",
     "start_time": "2024-05-18T18:17:45.193730Z"
    }
   },
   "outputs": [
    {
     "data": {
      "text/plain": [
       "(26216,)"
      ]
     },
     "execution_count": 160,
     "metadata": {},
     "output_type": "execute_result"
    }
   ],
   "source": [
    "X.shape"
   ]
  },
  {
   "cell_type": "code",
   "execution_count": 161,
   "metadata": {
    "ExecuteTime": {
     "end_time": "2024-05-18T18:17:45.402280Z",
     "start_time": "2024-05-18T18:17:45.398915Z"
    }
   },
   "outputs": [
    {
     "data": {
      "text/plain": [
       "(26216, 36)"
      ]
     },
     "execution_count": 161,
     "metadata": {},
     "output_type": "execute_result"
    }
   ],
   "source": [
    "Y.shape"
   ]
  },
  {
   "cell_type": "code",
   "execution_count": 162,
   "metadata": {
    "ExecuteTime": {
     "end_time": "2024-05-18T18:17:45.589189Z",
     "start_time": "2024-05-18T18:17:45.572774Z"
    }
   },
   "outputs": [
    {
     "data": {
      "text/html": [
       "<div>\n",
       "<style scoped>\n",
       "    .dataframe tbody tr th:only-of-type {\n",
       "        vertical-align: middle;\n",
       "    }\n",
       "\n",
       "    .dataframe tbody tr th {\n",
       "        vertical-align: top;\n",
       "    }\n",
       "\n",
       "    .dataframe thead th {\n",
       "        text-align: right;\n",
       "    }\n",
       "</style>\n",
       "<table border=\"1\" class=\"dataframe\">\n",
       "  <thead>\n",
       "    <tr style=\"text-align: right;\">\n",
       "      <th></th>\n",
       "      <th>id</th>\n",
       "      <th>message</th>\n",
       "      <th>original</th>\n",
       "      <th>genre</th>\n",
       "      <th>related</th>\n",
       "      <th>request</th>\n",
       "      <th>offer</th>\n",
       "      <th>aid_related</th>\n",
       "      <th>medical_help</th>\n",
       "      <th>medical_products</th>\n",
       "      <th>...</th>\n",
       "      <th>aid_centers</th>\n",
       "      <th>other_infrastructure</th>\n",
       "      <th>weather_related</th>\n",
       "      <th>floods</th>\n",
       "      <th>storm</th>\n",
       "      <th>fire</th>\n",
       "      <th>earthquake</th>\n",
       "      <th>cold</th>\n",
       "      <th>other_weather</th>\n",
       "      <th>direct_report</th>\n",
       "    </tr>\n",
       "  </thead>\n",
       "  <tbody>\n",
       "    <tr>\n",
       "      <th>0</th>\n",
       "      <td>2</td>\n",
       "      <td>Weather update - a cold front from Cuba that could pass over Haiti</td>\n",
       "      <td>Un front froid se retrouve sur Cuba ce matin. Il pourrait traverser Haiti demain. Des averses de pluie isolee sont encore prevues sur notre region ce soi</td>\n",
       "      <td>direct</td>\n",
       "      <td>1</td>\n",
       "      <td>0</td>\n",
       "      <td>0</td>\n",
       "      <td>0</td>\n",
       "      <td>0</td>\n",
       "      <td>0</td>\n",
       "      <td>...</td>\n",
       "      <td>0</td>\n",
       "      <td>0</td>\n",
       "      <td>0</td>\n",
       "      <td>0</td>\n",
       "      <td>0</td>\n",
       "      <td>0</td>\n",
       "      <td>0</td>\n",
       "      <td>0</td>\n",
       "      <td>0</td>\n",
       "      <td>0</td>\n",
       "    </tr>\n",
       "    <tr>\n",
       "      <th>1</th>\n",
       "      <td>7</td>\n",
       "      <td>Is the Hurricane over or is it not over</td>\n",
       "      <td>Cyclone nan fini osinon li pa fini</td>\n",
       "      <td>direct</td>\n",
       "      <td>1</td>\n",
       "      <td>0</td>\n",
       "      <td>0</td>\n",
       "      <td>1</td>\n",
       "      <td>0</td>\n",
       "      <td>0</td>\n",
       "      <td>...</td>\n",
       "      <td>0</td>\n",
       "      <td>0</td>\n",
       "      <td>1</td>\n",
       "      <td>0</td>\n",
       "      <td>1</td>\n",
       "      <td>0</td>\n",
       "      <td>0</td>\n",
       "      <td>0</td>\n",
       "      <td>0</td>\n",
       "      <td>0</td>\n",
       "    </tr>\n",
       "    <tr>\n",
       "      <th>2</th>\n",
       "      <td>8</td>\n",
       "      <td>Looking for someone but no name</td>\n",
       "      <td>Patnm, di Maryani relem pou li banm nouvel li ak timoun yo. Mesi se john jean depi Monben kwochi.</td>\n",
       "      <td>direct</td>\n",
       "      <td>1</td>\n",
       "      <td>0</td>\n",
       "      <td>0</td>\n",
       "      <td>0</td>\n",
       "      <td>0</td>\n",
       "      <td>0</td>\n",
       "      <td>...</td>\n",
       "      <td>0</td>\n",
       "      <td>0</td>\n",
       "      <td>0</td>\n",
       "      <td>0</td>\n",
       "      <td>0</td>\n",
       "      <td>0</td>\n",
       "      <td>0</td>\n",
       "      <td>0</td>\n",
       "      <td>0</td>\n",
       "      <td>0</td>\n",
       "    </tr>\n",
       "    <tr>\n",
       "      <th>3</th>\n",
       "      <td>9</td>\n",
       "      <td>UN reports Leogane 80-90 destroyed. Only Hospital St. Croix functioning. Needs supplies desperately.</td>\n",
       "      <td>UN reports Leogane 80-90 destroyed. Only Hospital St. Croix functioning. Needs supplies desperately.</td>\n",
       "      <td>direct</td>\n",
       "      <td>1</td>\n",
       "      <td>1</td>\n",
       "      <td>0</td>\n",
       "      <td>1</td>\n",
       "      <td>0</td>\n",
       "      <td>1</td>\n",
       "      <td>...</td>\n",
       "      <td>0</td>\n",
       "      <td>0</td>\n",
       "      <td>0</td>\n",
       "      <td>0</td>\n",
       "      <td>0</td>\n",
       "      <td>0</td>\n",
       "      <td>0</td>\n",
       "      <td>0</td>\n",
       "      <td>0</td>\n",
       "      <td>0</td>\n",
       "    </tr>\n",
       "    <tr>\n",
       "      <th>4</th>\n",
       "      <td>12</td>\n",
       "      <td>says: west side of Haiti, rest of the country today and tonight</td>\n",
       "      <td>facade ouest d Haiti et le reste du pays aujourd hui et ce soir</td>\n",
       "      <td>direct</td>\n",
       "      <td>1</td>\n",
       "      <td>0</td>\n",
       "      <td>0</td>\n",
       "      <td>0</td>\n",
       "      <td>0</td>\n",
       "      <td>0</td>\n",
       "      <td>...</td>\n",
       "      <td>0</td>\n",
       "      <td>0</td>\n",
       "      <td>0</td>\n",
       "      <td>0</td>\n",
       "      <td>0</td>\n",
       "      <td>0</td>\n",
       "      <td>0</td>\n",
       "      <td>0</td>\n",
       "      <td>0</td>\n",
       "      <td>0</td>\n",
       "    </tr>\n",
       "  </tbody>\n",
       "</table>\n",
       "<p>5 rows × 40 columns</p>\n",
       "</div>"
      ],
      "text/plain": [
       "   id  \\\n",
       "0   2   \n",
       "1   7   \n",
       "2   8   \n",
       "3   9   \n",
       "4  12   \n",
       "\n",
       "                                                                                                message  \\\n",
       "0                                    Weather update - a cold front from Cuba that could pass over Haiti   \n",
       "1                                                               Is the Hurricane over or is it not over   \n",
       "2                                                                       Looking for someone but no name   \n",
       "3  UN reports Leogane 80-90 destroyed. Only Hospital St. Croix functioning. Needs supplies desperately.   \n",
       "4                                       says: west side of Haiti, rest of the country today and tonight   \n",
       "\n",
       "                                                                                                                                                    original  \\\n",
       "0  Un front froid se retrouve sur Cuba ce matin. Il pourrait traverser Haiti demain. Des averses de pluie isolee sont encore prevues sur notre region ce soi   \n",
       "1                                                                                                                         Cyclone nan fini osinon li pa fini   \n",
       "2                                                          Patnm, di Maryani relem pou li banm nouvel li ak timoun yo. Mesi se john jean depi Monben kwochi.   \n",
       "3                                                       UN reports Leogane 80-90 destroyed. Only Hospital St. Croix functioning. Needs supplies desperately.   \n",
       "4                                                                                            facade ouest d Haiti et le reste du pays aujourd hui et ce soir   \n",
       "\n",
       "    genre  related  request  offer  aid_related  medical_help  \\\n",
       "0  direct        1        0      0            0             0   \n",
       "1  direct        1        0      0            1             0   \n",
       "2  direct        1        0      0            0             0   \n",
       "3  direct        1        1      0            1             0   \n",
       "4  direct        1        0      0            0             0   \n",
       "\n",
       "   medical_products  ...  aid_centers  other_infrastructure  weather_related  \\\n",
       "0                 0  ...            0                     0                0   \n",
       "1                 0  ...            0                     0                1   \n",
       "2                 0  ...            0                     0                0   \n",
       "3                 1  ...            0                     0                0   \n",
       "4                 0  ...            0                     0                0   \n",
       "\n",
       "   floods  storm  fire  earthquake  cold  other_weather  direct_report  \n",
       "0       0      0     0           0     0              0              0  \n",
       "1       0      1     0           0     0              0              0  \n",
       "2       0      0     0           0     0              0              0  \n",
       "3       0      0     0           0     0              0              0  \n",
       "4       0      0     0           0     0              0              0  \n",
       "\n",
       "[5 rows x 40 columns]"
      ]
     },
     "execution_count": 162,
     "metadata": {},
     "output_type": "execute_result"
    }
   ],
   "source": [
    "df.head()"
   ]
  },
  {
   "cell_type": "code",
   "execution_count": 163,
   "metadata": {
    "ExecuteTime": {
     "end_time": "2024-05-18T18:17:47.214628Z",
     "start_time": "2024-05-18T18:17:47.198726Z"
    }
   },
   "outputs": [
    {
     "data": {
      "text/plain": [
       "['direct', 'news', 'social']"
      ]
     },
     "execution_count": 163,
     "metadata": {},
     "output_type": "execute_result"
    }
   ],
   "source": [
    "genre_counts = df.groupby('genre').count()['message']\n",
    "genre_names = list(genre_counts.index)\n",
    "genre_names"
   ]
  },
  {
   "cell_type": "code",
   "execution_count": 164,
   "metadata": {
    "ExecuteTime": {
     "end_time": "2024-05-18T18:17:48.242383Z",
     "start_time": "2024-05-18T18:17:48.125674Z"
    }
   },
   "outputs": [
    {
     "data": {
      "text/plain": [
       "<AxesSubplot:xlabel='genre'>"
      ]
     },
     "execution_count": 164,
     "metadata": {},
     "output_type": "execute_result"
    },
    {
     "data": {
      "image/png": "[encoded data removed]",
      "text/plain": [
       "<Figure size 432x288 with 1 Axes>"
      ]
     },
     "metadata": {
      "needs_background": "light"
     },
     "output_type": "display_data"
    }
   ],
   "source": [
    "genre_counts.plot(kind = 'bar')"
   ]
  },
  {
   "cell_type": "code",
   "execution_count": 165,
   "metadata": {
    "ExecuteTime": {
     "end_time": "2024-05-18T18:17:51.652494Z",
     "start_time": "2024-05-18T18:17:51.642157Z"
    }
   },
   "outputs": [
    {
     "data": {
      "text/plain": [
       "['aid_related',\n",
       " 'weather_related',\n",
       " 'direct_report',\n",
       " 'request',\n",
       " 'other_aid',\n",
       " 'food',\n",
       " 'earthquake',\n",
       " 'storm',\n",
       " 'shelter',\n",
       " 'floods',\n",
       " 'medical_help',\n",
       " 'infrastructure_related',\n",
       " 'water',\n",
       " 'other_weather',\n",
       " 'buildings',\n",
       " 'medical_products',\n",
       " 'transport',\n",
       " 'death',\n",
       " 'other_infrastructure',\n",
       " 'refugees',\n",
       " 'military',\n",
       " 'search_and_rescue',\n",
       " 'money',\n",
       " 'electricity',\n",
       " 'cold',\n",
       " 'security',\n",
       " 'clothing',\n",
       " 'aid_centers',\n",
       " 'missing_people',\n",
       " 'hospitals',\n",
       " 'fire',\n",
       " 'tools',\n",
       " 'shops',\n",
       " 'offer',\n",
       " 'child_alone']"
      ]
     },
     "execution_count": 165,
     "metadata": {},
     "output_type": "execute_result"
    }
   ],
   "source": [
    "class_counts = df.drop(columns = ['id', 'message', 'original', 'genre', 'related']).sum(axis = 0).sort_values(ascending = False)\n",
    "class_names = list(class_counts.index)\n",
    "class_names"
   ]
  },
  {
   "cell_type": "code",
   "execution_count": 166,
   "metadata": {
    "ExecuteTime": {
     "end_time": "2024-05-18T18:17:52.372106Z",
     "start_time": "2024-05-18T18:17:52.363916Z"
    }
   },
   "outputs": [
    {
     "data": {
      "text/plain": [
       "0"
      ]
     },
     "execution_count": 166,
     "metadata": {},
     "output_type": "execute_result"
    }
   ],
   "source": [
    "# check for null messages\n",
    "df['message'].isna().sum()"
   ]
  },
  {
   "cell_type": "code",
   "execution_count": 167,
   "metadata": {
    "ExecuteTime": {
     "end_time": "2024-05-18T18:18:07.312260Z",
     "start_time": "2024-05-18T18:18:07.264466Z"
    }
   },
   "outputs": [
    {
     "data": {
      "text/html": [
       "<div>\n",
       "<style scoped>\n",
       "    .dataframe tbody tr th:only-of-type {\n",
       "        vertical-align: middle;\n",
       "    }\n",
       "\n",
       "    .dataframe tbody tr th {\n",
       "        vertical-align: top;\n",
       "    }\n",
       "\n",
       "    .dataframe thead th {\n",
       "        text-align: right;\n",
       "    }\n",
       "</style>\n",
       "<table border=\"1\" class=\"dataframe\">\n",
       "  <thead>\n",
       "    <tr style=\"text-align: right;\">\n",
       "      <th></th>\n",
       "      <th>id</th>\n",
       "      <th>message</th>\n",
       "      <th>original</th>\n",
       "      <th>genre</th>\n",
       "      <th>related</th>\n",
       "      <th>request</th>\n",
       "      <th>offer</th>\n",
       "      <th>aid_related</th>\n",
       "      <th>medical_help</th>\n",
       "      <th>medical_products</th>\n",
       "      <th>...</th>\n",
       "      <th>other_infrastructure</th>\n",
       "      <th>weather_related</th>\n",
       "      <th>floods</th>\n",
       "      <th>storm</th>\n",
       "      <th>fire</th>\n",
       "      <th>earthquake</th>\n",
       "      <th>cold</th>\n",
       "      <th>other_weather</th>\n",
       "      <th>direct_report</th>\n",
       "      <th>len</th>\n",
       "    </tr>\n",
       "  </thead>\n",
       "  <tbody>\n",
       "  </tbody>\n",
       "</table>\n",
       "<p>0 rows × 41 columns</p>\n",
       "</div>"
      ],
      "text/plain": [
       "Empty DataFrame\n",
       "Columns: [id, message, original, genre, related, request, offer, aid_related, medical_help, medical_products, search_and_rescue, security, military, child_alone, water, food, shelter, clothing, money, missing_people, refugees, death, other_aid, infrastructure_related, transport, buildings, electricity, tools, hospitals, shops, aid_centers, other_infrastructure, weather_related, floods, storm, fire, earthquake, cold, other_weather, direct_report, len]\n",
       "Index: []\n",
       "\n",
       "[0 rows x 41 columns]"
      ]
     },
     "execution_count": 167,
     "metadata": {},
     "output_type": "execute_result"
    }
   ],
   "source": [
    "# check for empty messages\n",
    "df['len'] = df['message'].str.len()\n",
    "df[df.len == 0].head()"
   ]
  },
  {
   "cell_type": "code",
   "execution_count": 168,
   "metadata": {
    "ExecuteTime": {
     "end_time": "2024-05-18T18:18:22.253294Z",
     "start_time": "2024-05-18T18:18:22.244059Z"
    }
   },
   "outputs": [],
   "source": [
    "df = df.drop(columns = ['len'])"
   ]
  },
  {
   "cell_type": "code",
   "execution_count": 169,
   "metadata": {
    "ExecuteTime": {
     "end_time": "2024-05-18T18:18:23.054483Z",
     "start_time": "2024-05-18T18:18:23.040816Z"
    }
   },
   "outputs": [
    {
     "data": {
      "text/plain": [
       "news      13054\n",
       "direct    10766\n",
       "social     2396\n",
       "Name: genre, dtype: int64"
      ]
     },
     "execution_count": 169,
     "metadata": {},
     "output_type": "execute_result"
    }
   ],
   "source": [
    "df['genre'].value_counts()"
   ]
  },
  {
   "cell_type": "code",
   "execution_count": 170,
   "metadata": {
    "ExecuteTime": {
     "end_time": "2024-05-18T18:18:23.905143Z",
     "start_time": "2024-05-18T18:18:23.897395Z"
    }
   },
   "outputs": [
    {
     "data": {
      "text/plain": [
       "1    19906\n",
       "0     6122\n",
       "2      188\n",
       "Name: related, dtype: int64"
      ]
     },
     "execution_count": 170,
     "metadata": {},
     "output_type": "execute_result"
    }
   ],
   "source": [
    "df['related'].value_counts()"
   ]
  },
  {
   "cell_type": "code",
   "execution_count": 171,
   "metadata": {
    "ExecuteTime": {
     "end_time": "2024-05-18T18:18:24.605525Z",
     "start_time": "2024-05-18T18:18:24.549973Z"
    },
    "scrolled": true
   },
   "outputs": [
    {
     "data": {
      "text/plain": [
       "id                        26180\n",
       "message                   26177\n",
       "original                   9630\n",
       "genre                         3\n",
       "related                       3\n",
       "request                       2\n",
       "offer                         2\n",
       "aid_related                   2\n",
       "medical_help                  2\n",
       "medical_products              2\n",
       "search_and_rescue             2\n",
       "security                      2\n",
       "military                      2\n",
       "child_alone                   1\n",
       "water                         2\n",
       "food                          2\n",
       "shelter                       2\n",
       "clothing                      2\n",
       "money                         2\n",
       "missing_people                2\n",
       "refugees                      2\n",
       "death                         2\n",
       "other_aid                     2\n",
       "infrastructure_related        2\n",
       "transport                     2\n",
       "buildings                     2\n",
       "electricity                   2\n",
       "tools                         2\n",
       "hospitals                     2\n",
       "shops                         2\n",
       "aid_centers                   2\n",
       "other_infrastructure          2\n",
       "weather_related               2\n",
       "floods                        2\n",
       "storm                         2\n",
       "fire                          2\n",
       "earthquake                    2\n",
       "cold                          2\n",
       "other_weather                 2\n",
       "direct_report                 2\n",
       "dtype: int64"
      ]
     },
     "execution_count": 171,
     "metadata": {},
     "output_type": "execute_result"
    }
   ],
   "source": [
    "df.nunique()"
   ]
  },
  {
   "cell_type": "code",
   "execution_count": 172,
   "metadata": {
    "ExecuteTime": {
     "end_time": "2024-05-18T18:18:27.704225Z",
     "start_time": "2024-05-18T18:18:27.695186Z"
    }
   },
   "outputs": [],
   "source": [
    "# child_alone only has one value in the training set\n",
    "df = df.drop(columns = ['child_alone'])"
   ]
  },
  {
   "cell_type": "markdown",
   "metadata": {},
   "source": [
    "### Additional transformations on the text to improve results"
   ]
  },
  {
   "cell_type": "code",
   "execution_count": 173,
   "metadata": {
    "ExecuteTime": {
     "end_time": "2024-05-18T18:18:29.429259Z",
     "start_time": "2024-05-18T18:18:29.402146Z"
    }
   },
   "outputs": [],
   "source": [
    "# convert characters to lowercase\n",
    "def lowercase(pdf, col):\n",
    "    pdf[col]=pdf[col].apply(lambda x: x.lower())\n",
    "    return pdf\n",
    "df = lowercase(df, 'message')"
   ]
  },
  {
   "cell_type": "code",
   "execution_count": 174,
   "metadata": {
    "ExecuteTime": {
     "end_time": "2024-05-18T18:18:29.632892Z",
     "start_time": "2024-05-18T18:18:29.608456Z"
    }
   },
   "outputs": [],
   "source": [
    "contractions_dict = { \n",
    "\"ain't\": \"am not / are not / is not / has not / have not\",\n",
    "\"aren't\": \"are not / am not\",\n",
    "\"can't\": \"cannot\",\n",
    "\"can't've\": \"cannot have\",\n",
    "\"'cause\": \"because\",\n",
    "\"could've\": \"could have\",\n",
    "\"couldn't\": \"could not\",\n",
    "\"couldn't've\": \"could not have\",\n",
    "\"didn't\": \"did not\",\n",
    "\"doesn't\": \"does not\",\n",
    "\"don't\": \"do not\",\n",
    "\"hadn't\": \"had not\",\n",
    "\"hadn't've\": \"had not have\",\n",
    "\"hasn't\": \"has not\",\n",
    "\"haven't\": \"have not\",\n",
    "\"he'd\": \"he had / he would\",\n",
    "\"he'd've\": \"he would have\",\n",
    "\"he'll\": \"he shall / he will\",\n",
    "\"he'll've\": \"he shall have / he will have\",\n",
    "\"he's\": \"he has / he is\",\n",
    "\"how'd\": \"how did\",\n",
    "\"how'd'y\": \"how do you\",\n",
    "\"how'll\": \"how will\",\n",
    "\"how's\": \"how has / how is / how does\",\n",
    "\"I'd\": \"I had / I would\",\n",
    "\"I'd've\": \"I would have\",\n",
    "\"I'll\": \"I shall / I will\",\n",
    "\"I'll've\": \"I shall have / I will have\",\n",
    "\"I'm\": \"I am\",\n",
    "\"I've\": \"I have\",\n",
    "\"isn't\": \"is not\",\n",
    "\"it'd\": \"it had / it would\",\n",
    "\"it'd've\": \"it would have\",\n",
    "\"it'll\": \"it shall / it will\",\n",
    "\"it'll've\": \"it shall have / it will have\",\n",
    "\"it's\": \"it has / it is\",\n",
    "\"let's\": \"let us\",\n",
    "\"ma'am\": \"madam\",\n",
    "\"mayn't\": \"may not\",\n",
    "\"might've\": \"might have\",\n",
    "\"mightn't\": \"might not\",\n",
    "\"mightn't've\": \"might not have\",\n",
    "\"must've\": \"must have\",\n",
    "\"mustn't\": \"must not\",\n",
    "\"mustn't've\": \"must not have\",\n",
    "\"needn't\": \"need not\",\n",
    "\"needn't've\": \"need not have\",\n",
    "\"o'clock\": \"of the clock\",\n",
    "\"oughtn't\": \"ought not\",\n",
    "\"oughtn't've\": \"ought not have\",\n",
    "\"shan't\": \"shall not\",\n",
    "\"sha'n't\": \"shall not\",\n",
    "\"shan't've\": \"shall not have\",\n",
    "\"she'd\": \"she had / she would\",\n",
    "\"she'd've\": \"she would have\",\n",
    "\"she'll\": \"she shall / she will\",\n",
    "\"she'll've\": \"she shall have / she will have\",\n",
    "\"she's\": \"she has / she is\",\n",
    "\"should've\": \"should have\",\n",
    "\"shouldn't\": \"should not\",\n",
    "\"shouldn't've\": \"should not have\",\n",
    "\"so've\": \"so have\",\n",
    "\"so's\": \"so as / so is\",\n",
    "\"that'd\": \"that would / that had\",\n",
    "\"that'd've\": \"that would have\",\n",
    "\"that's\": \"that has / that is\",\n",
    "\"there'd\": \"there had / there would\",\n",
    "\"there'd've\": \"there would have\",\n",
    "\"there's\": \"there has / there is\",\n",
    "\"they'd\": \"they had / they would\",\n",
    "\"they'd've\": \"they would have\",\n",
    "\"they'll\": \"they shall / they will\",\n",
    "\"they'll've\": \"they shall have / they will have\",\n",
    "\"they're\": \"they are\",\n",
    "\"they've\": \"they have\",\n",
    "\"to've\": \"to have\",\n",
    "\"wasn't\": \"was not\",\n",
    "\"we'd\": \"we had / we would\",\n",
    "\"we'd've\": \"we would have\",\n",
    "\"we'll\": \"we will\",\n",
    "\"we'll've\": \"we will have\",\n",
    "\"we're\": \"we are\",\n",
    "\"we've\": \"we have\",\n",
    "\"weren't\": \"were not\",\n",
    "\"what'll\": \"what shall / what will\",\n",
    "\"what'll've\": \"what shall have / what will have\",\n",
    "\"what're\": \"what are\",\n",
    "\"what's\": \"what has / what is\",\n",
    "\"what've\": \"what have\",\n",
    "\"when's\": \"when has / when is\",\n",
    "\"when've\": \"when have\",\n",
    "\"where'd\": \"where did\",\n",
    "\"where's\": \"where has / where is\",\n",
    "\"where've\": \"where have\",\n",
    "\"who'll\": \"who shall / who will\",\n",
    "\"who'll've\": \"who shall have / who will have\",\n",
    "\"who's\": \"who has / who is\",\n",
    "\"who've\": \"who have\",\n",
    "\"why's\": \"why has / why is\",\n",
    "\"why've\": \"why have\",\n",
    "\"will've\": \"will have\",\n",
    "\"won't\": \"will not\",\n",
    "\"won't've\": \"will not have\",\n",
    "\"would've\": \"would have\",\n",
    "\"wouldn't\": \"would not\",\n",
    "\"wouldn't've\": \"would not have\",\n",
    "\"y'all\": \"you all\",\n",
    "\"y'all'd\": \"you all would\",\n",
    "\"y'all'd've\": \"you all would have\",\n",
    "\"y'all're\": \"you all are\",\n",
    "\"y'all've\": \"you all have\",\n",
    "\"you'd\": \"you had / you would\",\n",
    "\"you'd've\": \"you would have\",\n",
    "\"you'll\": \"you shall / you will\",\n",
    "\"you'll've\": \"you shall have / you will have\",\n",
    "\"you're\": \"you are\",\n",
    "\"you've\": \"you have\"\n",
    "}\n"
   ]
  },
  {
   "cell_type": "code",
   "execution_count": 175,
   "metadata": {
    "ExecuteTime": {
     "end_time": "2024-05-18T18:18:31.474489Z",
     "start_time": "2024-05-18T18:18:30.432132Z"
    }
   },
   "outputs": [],
   "source": [
    "import re\n",
    "\n",
    "contractions_re = re.compile('(%s)' % '|'.join(contractions_dict.keys()))\n",
    "\n",
    "# Function for expanding contractions\n",
    "def expand_contractions(text,contractions_dict=contractions_dict):\n",
    "    def replace(match):\n",
    "        return contractions_dict[match.group(0)]\n",
    "    return contractions_re.sub(replace, text)\n",
    "\n",
    "df['message']= df['message'].apply(lambda x:expand_contractions(x))"
   ]
  },
  {
   "cell_type": "markdown",
   "metadata": {},
   "source": [
    "### define X and Y"
   ]
  },
  {
   "cell_type": "code",
   "execution_count": 178,
   "metadata": {
    "ExecuteTime": {
     "end_time": "2024-05-18T18:18:42.531017Z",
     "start_time": "2024-05-18T18:18:42.524858Z"
    }
   },
   "outputs": [
    {
     "data": {
      "text/plain": [
       "Index(['id', 'message', 'original', 'genre', 'related', 'request', 'offer',\n",
       "       'aid_related', 'medical_help', 'medical_products', 'search_and_rescue',\n",
       "       'security', 'military', 'water', 'food', 'shelter', 'clothing', 'money',\n",
       "       'missing_people', 'refugees', 'death', 'other_aid',\n",
       "       'infrastructure_related', 'transport', 'buildings', 'electricity',\n",
       "       'tools', 'hospitals', 'shops', 'aid_centers', 'other_infrastructure',\n",
       "       'weather_related', 'floods', 'storm', 'fire', 'earthquake', 'cold',\n",
       "       'other_weather', 'direct_report'],\n",
       "      dtype='object')"
      ]
     },
     "execution_count": 178,
     "metadata": {},
     "output_type": "execute_result"
    }
   ],
   "source": [
    "df.columns"
   ]
  },
  {
   "cell_type": "code",
   "execution_count": 202,
   "metadata": {
    "ExecuteTime": {
     "end_time": "2024-05-18T18:22:52.291509Z",
     "start_time": "2024-05-18T18:22:52.279830Z"
    }
   },
   "outputs": [],
   "source": [
    "X = df['message'].values\n",
    "Y = df.drop(columns = ['id', 'message', 'original', 'genre', 'related']).values"
   ]
  },
  {
   "cell_type": "markdown",
   "metadata": {},
   "source": [
    "### 2. Write a tokenization function to process your text data"
   ]
  },
  {
   "cell_type": "code",
   "execution_count": 204,
   "metadata": {
    "ExecuteTime": {
     "end_time": "2024-05-18T18:23:01.064337Z",
     "start_time": "2024-05-18T18:23:01.003030Z"
    }
   },
   "outputs": [
    {
     "name": "stderr",
     "output_type": "stream",
     "text": [
      "[nltk_data] Error loading stopwords: <urlopen error Tunnel connection\n",
      "[nltk_data]     failed: 407 Proxy Authorization Required>\n"
     ]
    },
    {
     "data": {
      "text/plain": [
       "False"
      ]
     },
     "execution_count": 204,
     "metadata": {},
     "output_type": "execute_result"
    }
   ],
   "source": [
    "import nltk\n",
    "nltk.download('stopwords')"
   ]
  },
  {
   "cell_type": "code",
   "execution_count": 205,
   "metadata": {
    "ExecuteTime": {
     "end_time": "2024-05-18T18:23:01.638616Z",
     "start_time": "2024-05-18T18:23:01.634920Z"
    }
   },
   "outputs": [],
   "source": [
    "# stop words\n",
    "import nltk\n",
    "from nltk.corpus import stopwords\n",
    "from nltk.tokenize import word_tokenize \n",
    "from nltk.stem.wordnet import WordNetLemmatizer\n",
    "import re"
   ]
  },
  {
   "cell_type": "code",
   "execution_count": 206,
   "metadata": {
    "ExecuteTime": {
     "end_time": "2024-05-18T18:23:02.071080Z",
     "start_time": "2024-05-18T18:23:02.067448Z"
    }
   },
   "outputs": [],
   "source": [
    "stopwords_nltk = list(stopwords.words(\"english\"))\n",
    "combined_stopwords = stopwords_nltk"
   ]
  },
  {
   "cell_type": "code",
   "execution_count": 207,
   "metadata": {
    "ExecuteTime": {
     "end_time": "2024-05-18T18:23:02.398822Z",
     "start_time": "2024-05-18T18:23:02.391897Z"
    }
   },
   "outputs": [],
   "source": [
    "def tokenize(text):\n",
    "    \"\"\"\n",
    "    Splits text into tokens\n",
    "    \n",
    "    Arguments:\n",
    "    text (str): text to split\n",
    "    Returns:\n",
    "    tokens (list): list of tokens in the text\n",
    "    \n",
    "    \"\"\"\n",
    "    import nltk\n",
    "    from nltk.corpus import stopwords\n",
    "    from nltk.tokenize import word_tokenize \n",
    "    from nltk.stem.wordnet import WordNetLemmatizer\n",
    "\n",
    "    stop_words = stopwords.words(\"english\")\n",
    "    # convert text to lowercase\n",
    "    text = text.lower()\n",
    "    \n",
    "    # remove punctuation\n",
    "    import re\n",
    "    text = re.sub(r\"[^a-zA-Z0-9]\", \" \", text) \n",
    "    \n",
    "    words = word_tokenize(text) \n",
    "\n",
    "    words = [w for w in words if w not in stop_words] \n",
    "    \n",
    "    lemmatizer = WordNetLemmatizer()    \n",
    "    tokens = [lemmatizer.lemmatize(word) for word in words if word not in stop_words]\n",
    "\n",
    "    return tokens"
   ]
  },
  {
   "cell_type": "code",
   "execution_count": 208,
   "metadata": {
    "ExecuteTime": {
     "end_time": "2024-05-18T18:23:02.829511Z",
     "start_time": "2024-05-18T18:23:02.824510Z"
    }
   },
   "outputs": [
    {
     "data": {
      "text/plain": [
       "'the message might be saying that they have been stuck in the presidential palace ( pal ) since the same tuesday ( as the quake ). they need water. the message says they are not finding a little water. no names, no number of people given.'"
      ]
     },
     "execution_count": 208,
     "metadata": {},
     "output_type": "execute_result"
    }
   ],
   "source": [
    "X[100]"
   ]
  },
  {
   "cell_type": "code",
   "execution_count": 209,
   "metadata": {
    "ExecuteTime": {
     "end_time": "2024-05-18T18:23:03.101272Z",
     "start_time": "2024-05-18T18:23:03.096667Z"
    }
   },
   "outputs": [],
   "source": [
    "# test tokenization function\n",
    "x0_tokens= tokenize(X[100])"
   ]
  },
  {
   "cell_type": "code",
   "execution_count": 210,
   "metadata": {
    "ExecuteTime": {
     "end_time": "2024-05-18T18:23:03.320884Z",
     "start_time": "2024-05-18T18:23:03.316646Z"
    }
   },
   "outputs": [
    {
     "data": {
      "text/plain": [
       "['message',\n",
       " 'might',\n",
       " 'saying',\n",
       " 'stuck',\n",
       " 'presidential',\n",
       " 'palace',\n",
       " 'pal',\n",
       " 'since',\n",
       " 'tuesday',\n",
       " 'quake',\n",
       " 'need',\n",
       " 'water',\n",
       " 'message',\n",
       " 'say',\n",
       " 'finding',\n",
       " 'little',\n",
       " 'water',\n",
       " 'name',\n",
       " 'number',\n",
       " 'people',\n",
       " 'given']"
      ]
     },
     "execution_count": 210,
     "metadata": {},
     "output_type": "execute_result"
    }
   ],
   "source": [
    "x0_tokens"
   ]
  },
  {
   "cell_type": "markdown",
   "metadata": {},
   "source": [
    "### 3. Build a machine learning pipeline\n",
    "This machine pipeline should take in the `message` column as input and output classification results on the other 36 categories in the dataset. You may find the [MultiOutputClassifier](http://scikit-learn.org/stable/modules/generated/sklearn.multioutput.MultiOutputClassifier.html) helpful for predicting multiple target variables."
   ]
  },
  {
   "cell_type": "code",
   "execution_count": 211,
   "metadata": {
    "ExecuteTime": {
     "end_time": "2024-05-18T18:23:04.618861Z",
     "start_time": "2024-05-18T18:23:04.612230Z"
    }
   },
   "outputs": [],
   "source": [
    "from sklearn.pipeline import Pipeline, FeatureUnion\n",
    "from sklearn.feature_extraction.text import CountVectorizer\n",
    "from sklearn.feature_extraction.text import TfidfVectorizer\n",
    "from sklearn.feature_extraction.text import TfidfTransformer\n",
    "from sklearn.multioutput import MultiOutputClassifier\n",
    "from sklearn.ensemble import RandomForestClassifier\n",
    "\n",
    "\n",
    "pipeline = Pipeline([\n",
    "    ('features', FeatureUnion([\n",
    "\n",
    "        ('text_pipeline', Pipeline([\n",
    "            ('vect', CountVectorizer(tokenizer=tokenize)),\n",
    "            ('tfidf', TfidfTransformer(smooth_idf=False))\n",
    "        ])),\n",
    "    ])),\n",
    "\n",
    "    ('clf', MultiOutputClassifier(RandomForestClassifier()))\n",
    "])"
   ]
  },
  {
   "cell_type": "markdown",
   "metadata": {},
   "source": [
    "### 4. Train pipeline\n",
    "- Split data into train and test sets\n",
    "- Train pipeline"
   ]
  },
  {
   "cell_type": "code",
   "execution_count": 212,
   "metadata": {
    "ExecuteTime": {
     "end_time": "2024-05-18T18:23:07.121241Z",
     "start_time": "2024-05-18T18:23:07.116025Z"
    }
   },
   "outputs": [
    {
     "data": {
      "text/plain": [
       "Index(['id', 'message', 'original', 'genre', 'related', 'request', 'offer',\n",
       "       'aid_related', 'medical_help', 'medical_products', 'search_and_rescue',\n",
       "       'security', 'military', 'water', 'food', 'shelter', 'clothing', 'money',\n",
       "       'missing_people', 'refugees', 'death', 'other_aid',\n",
       "       'infrastructure_related', 'transport', 'buildings', 'electricity',\n",
       "       'tools', 'hospitals', 'shops', 'aid_centers', 'other_infrastructure',\n",
       "       'weather_related', 'floods', 'storm', 'fire', 'earthquake', 'cold',\n",
       "       'other_weather', 'direct_report'],\n",
       "      dtype='object')"
      ]
     },
     "execution_count": 212,
     "metadata": {},
     "output_type": "execute_result"
    }
   ],
   "source": [
    "df.columns"
   ]
  },
  {
   "cell_type": "code",
   "execution_count": 213,
   "metadata": {
    "ExecuteTime": {
     "end_time": "2024-05-18T18:23:07.809124Z",
     "start_time": "2024-05-18T18:23:07.793966Z"
    }
   },
   "outputs": [],
   "source": [
    "# split X and Y into train and test sets\n",
    "from sklearn.model_selection import train_test_split\n",
    "X_train, X_test, y_train, y_test = train_test_split(X, Y)\n"
   ]
  },
  {
   "cell_type": "code",
   "execution_count": 214,
   "metadata": {
    "ExecuteTime": {
     "end_time": "2024-05-18T18:23:09.509771Z",
     "start_time": "2024-05-18T18:23:09.504308Z"
    }
   },
   "outputs": [],
   "source": [
    "# check that the test and train split both have samples with every class\n",
    "def check_unique_labels(array):\n",
    "    import numpy as np\n",
    "    unique_values = np.apply_along_axis(np.unique, axis=0, arr=array)\n",
    "    # Print the unique values in each column\n",
    "    for col_idx, col_values in enumerate(unique_values.T):\n",
    "        print(f\"Column {col_idx+1}: {col_values}\")\n"
   ]
  },
  {
   "cell_type": "code",
   "execution_count": 215,
   "metadata": {
    "ExecuteTime": {
     "end_time": "2024-05-18T18:23:09.762917Z",
     "start_time": "2024-05-18T18:23:09.758501Z"
    }
   },
   "outputs": [
    {
     "data": {
      "text/plain": [
       "(19662, 34)"
      ]
     },
     "execution_count": 215,
     "metadata": {},
     "output_type": "execute_result"
    }
   ],
   "source": [
    "y_train.shape"
   ]
  },
  {
   "cell_type": "code",
   "execution_count": 217,
   "metadata": {
    "ExecuteTime": {
     "end_time": "2024-05-18T18:23:27.001940Z",
     "start_time": "2024-05-18T18:23:26.978307Z"
    }
   },
   "outputs": [
    {
     "name": "stdout",
     "output_type": "stream",
     "text": [
      "Column 1: [0 1]\n",
      "Column 2: [0 1]\n",
      "Column 3: [0 1]\n",
      "Column 4: [0 1]\n",
      "Column 5: [0 1]\n",
      "Column 6: [0 1]\n",
      "Column 7: [0 1]\n",
      "Column 8: [0 1]\n",
      "Column 9: [0 1]\n",
      "Column 10: [0 1]\n",
      "Column 11: [0 1]\n",
      "Column 12: [0 1]\n",
      "Column 13: [0 1]\n",
      "Column 14: [0 1]\n",
      "Column 15: [0 1]\n",
      "Column 16: [0 1]\n",
      "Column 17: [0 1]\n",
      "Column 18: [0 1]\n",
      "Column 19: [0 1]\n",
      "Column 20: [0 1]\n",
      "Column 21: [0 1]\n",
      "Column 22: [0 1]\n",
      "Column 23: [0 1]\n",
      "Column 24: [0 1]\n",
      "Column 25: [0 1]\n",
      "Column 26: [0 1]\n",
      "Column 27: [0 1]\n",
      "Column 28: [0 1]\n",
      "Column 29: [0 1]\n",
      "Column 30: [0 1]\n",
      "Column 31: [0 1]\n",
      "Column 32: [0 1]\n",
      "Column 33: [0 1]\n",
      "Column 34: [0 1]\n"
     ]
    }
   ],
   "source": [
    "check_unique_labels(y_train)"
   ]
  },
  {
   "cell_type": "code",
   "execution_count": 218,
   "metadata": {
    "ExecuteTime": {
     "end_time": "2024-05-18T18:23:27.769368Z",
     "start_time": "2024-05-18T18:23:27.752008Z"
    }
   },
   "outputs": [
    {
     "name": "stdout",
     "output_type": "stream",
     "text": [
      "Column 1: [0 1]\n",
      "Column 2: [0 1]\n",
      "Column 3: [0 1]\n",
      "Column 4: [0 1]\n",
      "Column 5: [0 1]\n",
      "Column 6: [0 1]\n",
      "Column 7: [0 1]\n",
      "Column 8: [0 1]\n",
      "Column 9: [0 1]\n",
      "Column 10: [0 1]\n",
      "Column 11: [0 1]\n",
      "Column 12: [0 1]\n",
      "Column 13: [0 1]\n",
      "Column 14: [0 1]\n",
      "Column 15: [0 1]\n",
      "Column 16: [0 1]\n",
      "Column 17: [0 1]\n",
      "Column 18: [0 1]\n",
      "Column 19: [0 1]\n",
      "Column 20: [0 1]\n",
      "Column 21: [0 1]\n",
      "Column 22: [0 1]\n",
      "Column 23: [0 1]\n",
      "Column 24: [0 1]\n",
      "Column 25: [0 1]\n",
      "Column 26: [0 1]\n",
      "Column 27: [0 1]\n",
      "Column 28: [0 1]\n",
      "Column 29: [0 1]\n",
      "Column 30: [0 1]\n",
      "Column 31: [0 1]\n",
      "Column 32: [0 1]\n",
      "Column 33: [0 1]\n",
      "Column 34: [0 1]\n"
     ]
    }
   ],
   "source": [
    "check_unique_labels(y_test)"
   ]
  },
  {
   "cell_type": "code",
   "execution_count": 220,
   "metadata": {
    "ExecuteTime": {
     "end_time": "2024-05-18T18:32:17.287240Z",
     "start_time": "2024-05-18T18:23:38.949564Z"
    }
   },
   "outputs": [
    {
     "name": "stdout",
     "output_type": "stream",
     "text": [
      "train start time:  2024-05-18 20:23:38.951078\n",
      "train end time:  2024-05-18 20:32:17.283856\n"
     ]
    }
   ],
   "source": [
    "print(\"train start time: \", datetime.datetime.now())\n",
    "pipeline.fit(X_train, y_train)\n",
    "print(\"train end time: \", datetime.datetime.now())"
   ]
  },
  {
   "cell_type": "markdown",
   "metadata": {},
   "source": [
    "### 5. Test your model\n",
    "Report the f1 score, precision and recall for each output category of the dataset. You can do this by iterating through the columns and calling sklearn's `classification_report` on each."
   ]
  },
  {
   "cell_type": "code",
   "execution_count": 68,
   "metadata": {
    "ExecuteTime": {
     "end_time": "2024-05-18T11:09:05.413624Z",
     "start_time": "2024-05-18T11:09:05.408209Z"
    }
   },
   "outputs": [],
   "source": [
    "def calculate_model_metrics(X_test, y_test, y_pred):\n",
    "    from sklearn.metrics import accuracy_score, classification_report\n",
    "    accuracy = accuracy_score(y_test, y_pred)\n",
    "    report = classification_report(y_test, y_pred)\n",
    "\n",
    "    print(\"Accuracy:\", accuracy)\n",
    "    print(\"Classification Report:\")\n",
    "    print(report)\n",
    "    \n",
    "    # accuracy for each class\n",
    "    accuracies = [accuracy_score(y_test[:, i], y_pred[:, i]) for i in range(y_test.shape[1])]\n",
    "    print(\"Accuracy for each output:\", accuracies)"
   ]
  },
  {
   "cell_type": "code",
   "execution_count": 221,
   "metadata": {
    "ExecuteTime": {
     "end_time": "2024-05-18T18:33:19.815832Z",
     "start_time": "2024-05-18T18:32:17.289355Z"
    }
   },
   "outputs": [],
   "source": [
    "# metrics on train\n",
    "y_train_pred = pipeline.predict(X_train)"
   ]
  },
  {
   "cell_type": "code",
   "execution_count": 224,
   "metadata": {
    "ExecuteTime": {
     "end_time": "2024-05-18T18:33:58.305383Z",
     "start_time": "2024-05-18T18:33:58.152787Z"
    },
    "collapsed": true
   },
   "outputs": [
    {
     "name": "stdout",
     "output_type": "stream",
     "text": [
      "Accuracy: 0.9957277998169057\n",
      "Classification Report:\n",
      "              precision    recall  f1-score   support\n",
      "\n",
      "           0       1.00      0.99      1.00      3413\n",
      "           1       1.00      0.98      0.99        85\n",
      "           2       1.00      1.00      1.00      8238\n",
      "           3       1.00      0.99      1.00      1627\n",
      "           4       1.00      1.00      1.00       984\n",
      "           5       1.00      1.00      1.00       547\n",
      "           6       1.00      0.98      0.99       371\n",
      "           7       1.00      1.00      1.00       671\n",
      "           8       1.00      1.00      1.00      1276\n",
      "           9       1.00      1.00      1.00      2233\n",
      "          10       1.00      1.00      1.00      1747\n",
      "          11       1.00      1.00      1.00       315\n",
      "          12       1.00      1.00      1.00       462\n",
      "          13       1.00      1.00      1.00       234\n",
      "          14       1.00      1.00      1.00       666\n",
      "          15       1.00      1.00      1.00       911\n",
      "          16       1.00      1.00      1.00      2592\n",
      "          17       1.00      1.00      1.00      1290\n",
      "          18       1.00      0.99      1.00       923\n",
      "          19       1.00      1.00      1.00       982\n",
      "          20       1.00      1.00      1.00       398\n",
      "          21       1.00      0.98      0.99       122\n",
      "          22       1.00      1.00      1.00       224\n",
      "          23       1.00      1.00      1.00        92\n",
      "          24       1.00      1.00      1.00       237\n",
      "          25       1.00      1.00      1.00       857\n",
      "          26       1.00      1.00      1.00      5521\n",
      "          27       1.00      1.00      1.00      1664\n",
      "          28       1.00      1.00      1.00      1865\n",
      "          29       1.00      1.00      1.00       213\n",
      "          30       1.00      1.00      1.00      1835\n",
      "          31       1.00      0.99      1.00       396\n",
      "          32       1.00      1.00      1.00      1029\n",
      "          33       1.00      1.00      1.00      3858\n",
      "\n",
      "   micro avg       1.00      1.00      1.00     47878\n",
      "   macro avg       1.00      1.00      1.00     47878\n",
      "weighted avg       1.00      1.00      1.00     47878\n",
      " samples avg       0.57      0.57      0.57     47878\n",
      "\n",
      "Accuracy for each output: [0.9990336690062048, 0.9998982809480216, 0.9991862475841725, 0.9993388261621402, 0.9997965618960432, 0.9999491404740107, 0.9996948428440647, 0.9998474214220323, 0.9999491404740107, 0.9999491404740107, 0.9999491404740107, 1.0, 0.9998982809480216, 0.9999491404740107, 0.9998474214220323, 0.9998982809480216, 0.9992371071101618, 0.9996948428440647, 0.9996948428440647, 0.9997965618960432, 1.0, 0.9998982809480216, 0.9999491404740107, 1.0, 0.9999491404740107, 0.9997965618960432, 0.999542264266097, 0.9996948428440647, 0.9998474214220323, 1.0, 0.9997965618960432, 0.9998982809480216, 0.9997457023700539, 0.9992371071101618]\n"
     ]
    },
    {
     "name": "stderr",
     "output_type": "stream",
     "text": [
      "/home/arjunanl/.virtualenv/usecase/lib/python3.6/site-packages/sklearn/metrics/_classification.py:1248: UndefinedMetricWarning:\n",
      "\n",
      "Precision and F-score are ill-defined and being set to 0.0 in samples with no predicted labels. Use `zero_division` parameter to control this behavior.\n",
      "\n",
      "/home/arjunanl/.virtualenv/usecase/lib/python3.6/site-packages/sklearn/metrics/_classification.py:1248: UndefinedMetricWarning:\n",
      "\n",
      "Recall and F-score are ill-defined and being set to 0.0 in samples with no true labels. Use `zero_division` parameter to control this behavior.\n",
      "\n"
     ]
    }
   ],
   "source": [
    "calculate_model_metrics(X_train, y_train, y_train_pred)"
   ]
  },
  {
   "cell_type": "code",
   "execution_count": 222,
   "metadata": {
    "ExecuteTime": {
     "end_time": "2024-05-18T18:33:41.117901Z",
     "start_time": "2024-05-18T18:33:19.818667Z"
    }
   },
   "outputs": [],
   "source": [
    "# metrics on test\n",
    "y_pred = pipeline.predict(X_test)"
   ]
  },
  {
   "cell_type": "code",
   "execution_count": 223,
   "metadata": {
    "ExecuteTime": {
     "end_time": "2024-05-18T18:33:41.179899Z",
     "start_time": "2024-05-18T18:33:41.119624Z"
    },
    "collapsed": true
   },
   "outputs": [
    {
     "name": "stdout",
     "output_type": "stream",
     "text": [
      "Accuracy: 0.4224900823924321\n",
      "Classification Report:\n",
      "              precision    recall  f1-score   support\n",
      "\n",
      "           0       0.81      0.51      0.63      1061\n",
      "           1       0.00      0.00      0.00        33\n",
      "           2       0.75      0.70      0.72      2622\n",
      "           3       0.53      0.07      0.12       457\n",
      "           4       0.84      0.08      0.14       329\n",
      "           5       0.71      0.06      0.10       177\n",
      "           6       0.33      0.01      0.02       100\n",
      "           7       0.61      0.06      0.11       189\n",
      "           8       0.86      0.30      0.45       396\n",
      "           9       0.85      0.61      0.71       690\n",
      "          10       0.82      0.39      0.53       567\n",
      "          11       0.77      0.11      0.19        90\n",
      "          12       0.50      0.01      0.03       142\n",
      "          13       1.00      0.02      0.03        64\n",
      "          14       0.60      0.01      0.03       209\n",
      "          15       0.82      0.11      0.20       283\n",
      "          16       0.58      0.03      0.06       854\n",
      "          17       0.00      0.00      0.00       415\n",
      "          18       0.81      0.08      0.14       278\n",
      "          19       0.84      0.13      0.23       351\n",
      "          20       0.50      0.02      0.04       134\n",
      "          21       0.00      0.00      0.00        37\n",
      "          22       0.00      0.00      0.00        59\n",
      "          23       0.00      0.00      0.00        28\n",
      "          24       0.00      0.00      0.00        72\n",
      "          25       0.00      0.00      0.00       294\n",
      "          26       0.85      0.69      0.76      1776\n",
      "          27       0.91      0.49      0.64       491\n",
      "          28       0.76      0.49      0.59       578\n",
      "          29       0.00      0.00      0.00        69\n",
      "          30       0.90      0.78      0.84       620\n",
      "          31       0.73      0.06      0.11       134\n",
      "          32       0.37      0.03      0.05       347\n",
      "          33       0.78      0.36      0.49      1217\n",
      "\n",
      "   micro avg       0.80      0.40      0.53     15163\n",
      "   macro avg       0.55      0.18      0.23     15163\n",
      "weighted avg       0.71      0.40      0.47     15163\n",
      " samples avg       0.40      0.24      0.28     15163\n",
      "\n",
      "Accuracy for each output: [0.9012816600549283, 0.9949649069270674, 0.7847116264876411, 0.9308819041806531, 0.9530057979859627, 0.9739090631675312, 0.9845895636252671, 0.9717729630759842, 0.9548367409215746, 0.9476655477570949, 0.9398840402807446, 0.9873359780286848, 0.9783338419285932, 0.9903875495880379, 0.9682636557827281, 0.9606347268843455, 0.8707659444613977, 0.936222154409521, 0.9601769911504425, 0.9520903265181568, 0.9795544705523345, 0.9943545926151969, 0.9909978638999084, 0.9957277998169057, 0.9890143423863289, 0.9548367409215746, 0.8843454379005188, 0.9583460482148306, 0.9414098260604211, 0.989472078120232, 0.9713152273420812, 0.9803173634421727, 0.9459871833994508, 0.862679279829112]\n"
     ]
    },
    {
     "name": "stderr",
     "output_type": "stream",
     "text": [
      "/home/arjunanl/.virtualenv/usecase/lib/python3.6/site-packages/sklearn/metrics/_classification.py:1248: UndefinedMetricWarning:\n",
      "\n",
      "Precision and F-score are ill-defined and being set to 0.0 in labels with no predicted samples. Use `zero_division` parameter to control this behavior.\n",
      "\n",
      "/home/arjunanl/.virtualenv/usecase/lib/python3.6/site-packages/sklearn/metrics/_classification.py:1248: UndefinedMetricWarning:\n",
      "\n",
      "Precision and F-score are ill-defined and being set to 0.0 in samples with no predicted labels. Use `zero_division` parameter to control this behavior.\n",
      "\n",
      "/home/arjunanl/.virtualenv/usecase/lib/python3.6/site-packages/sklearn/metrics/_classification.py:1248: UndefinedMetricWarning:\n",
      "\n",
      "Recall and F-score are ill-defined and being set to 0.0 in samples with no true labels. Use `zero_division` parameter to control this behavior.\n",
      "\n"
     ]
    }
   ],
   "source": [
    "calculate_model_metrics(X_test, y_test, y_pred)"
   ]
  },
  {
   "cell_type": "markdown",
   "metadata": {},
   "source": [
    "### 6. Improve your model\n",
    "Use grid search to find better parameters. "
   ]
  },
  {
   "cell_type": "code",
   "execution_count": 225,
   "metadata": {
    "ExecuteTime": {
     "end_time": "2024-05-18T18:34:10.519551Z",
     "start_time": "2024-05-18T18:34:10.485219Z"
    },
    "scrolled": true
   },
   "outputs": [
    {
     "data": {
      "text/plain": [
       "{'memory': None,\n",
       " 'steps': [('features',\n",
       "   FeatureUnion(transformer_list=[('text_pipeline',\n",
       "                                   Pipeline(steps=[('vect',\n",
       "                                                    CountVectorizer(tokenizer=<function tokenize at 0x7fb6ecd5ed08>)),\n",
       "                                                   ('tfidf',\n",
       "                                                    TfidfTransformer(smooth_idf=False))]))])),\n",
       "  ('clf', MultiOutputClassifier(estimator=RandomForestClassifier()))],\n",
       " 'verbose': False,\n",
       " 'features': FeatureUnion(transformer_list=[('text_pipeline',\n",
       "                                 Pipeline(steps=[('vect',\n",
       "                                                  CountVectorizer(tokenizer=<function tokenize at 0x7fb6ecd5ed08>)),\n",
       "                                                 ('tfidf',\n",
       "                                                  TfidfTransformer(smooth_idf=False))]))]),\n",
       " 'clf': MultiOutputClassifier(estimator=RandomForestClassifier()),\n",
       " 'features__n_jobs': None,\n",
       " 'features__transformer_list': [('text_pipeline',\n",
       "   Pipeline(steps=[('vect',\n",
       "                    CountVectorizer(tokenizer=<function tokenize at 0x7fb6ecd5ed08>)),\n",
       "                   ('tfidf', TfidfTransformer(smooth_idf=False))]))],\n",
       " 'features__transformer_weights': None,\n",
       " 'features__verbose': False,\n",
       " 'features__text_pipeline': Pipeline(steps=[('vect',\n",
       "                  CountVectorizer(tokenizer=<function tokenize at 0x7fb6ecd5ed08>)),\n",
       "                 ('tfidf', TfidfTransformer(smooth_idf=False))]),\n",
       " 'features__text_pipeline__memory': None,\n",
       " 'features__text_pipeline__steps': [('vect',\n",
       "   CountVectorizer(tokenizer=<function tokenize at 0x7fb6ecd5ed08>)),\n",
       "  ('tfidf', TfidfTransformer(smooth_idf=False))],\n",
       " 'features__text_pipeline__verbose': False,\n",
       " 'features__text_pipeline__vect': CountVectorizer(tokenizer=<function tokenize at 0x7fb6ecd5ed08>),\n",
       " 'features__text_pipeline__tfidf': TfidfTransformer(smooth_idf=False),\n",
       " 'features__text_pipeline__vect__analyzer': 'word',\n",
       " 'features__text_pipeline__vect__binary': False,\n",
       " 'features__text_pipeline__vect__decode_error': 'strict',\n",
       " 'features__text_pipeline__vect__dtype': numpy.int64,\n",
       " 'features__text_pipeline__vect__encoding': 'utf-8',\n",
       " 'features__text_pipeline__vect__input': 'content',\n",
       " 'features__text_pipeline__vect__lowercase': True,\n",
       " 'features__text_pipeline__vect__max_df': 1.0,\n",
       " 'features__text_pipeline__vect__max_features': None,\n",
       " 'features__text_pipeline__vect__min_df': 1,\n",
       " 'features__text_pipeline__vect__ngram_range': (1, 1),\n",
       " 'features__text_pipeline__vect__preprocessor': None,\n",
       " 'features__text_pipeline__vect__stop_words': None,\n",
       " 'features__text_pipeline__vect__strip_accents': None,\n",
       " 'features__text_pipeline__vect__token_pattern': '(?u)\\\\b\\\\w\\\\w+\\\\b',\n",
       " 'features__text_pipeline__vect__tokenizer': <function __main__.tokenize(text)>,\n",
       " 'features__text_pipeline__vect__vocabulary': None,\n",
       " 'features__text_pipeline__tfidf__norm': 'l2',\n",
       " 'features__text_pipeline__tfidf__smooth_idf': False,\n",
       " 'features__text_pipeline__tfidf__sublinear_tf': False,\n",
       " 'features__text_pipeline__tfidf__use_idf': True,\n",
       " 'clf__estimator__bootstrap': True,\n",
       " 'clf__estimator__ccp_alpha': 0.0,\n",
       " 'clf__estimator__class_weight': None,\n",
       " 'clf__estimator__criterion': 'gini',\n",
       " 'clf__estimator__max_depth': None,\n",
       " 'clf__estimator__max_features': 'auto',\n",
       " 'clf__estimator__max_leaf_nodes': None,\n",
       " 'clf__estimator__max_samples': None,\n",
       " 'clf__estimator__min_impurity_decrease': 0.0,\n",
       " 'clf__estimator__min_impurity_split': None,\n",
       " 'clf__estimator__min_samples_leaf': 1,\n",
       " 'clf__estimator__min_samples_split': 2,\n",
       " 'clf__estimator__min_weight_fraction_leaf': 0.0,\n",
       " 'clf__estimator__n_estimators': 100,\n",
       " 'clf__estimator__n_jobs': None,\n",
       " 'clf__estimator__oob_score': False,\n",
       " 'clf__estimator__random_state': None,\n",
       " 'clf__estimator__verbose': 0,\n",
       " 'clf__estimator__warm_start': False,\n",
       " 'clf__estimator': RandomForestClassifier(),\n",
       " 'clf__n_jobs': None}"
      ]
     },
     "execution_count": 225,
     "metadata": {},
     "output_type": "execute_result"
    }
   ],
   "source": [
    "pipeline.get_params()"
   ]
  },
  {
   "cell_type": "code",
   "execution_count": 226,
   "metadata": {
    "ExecuteTime": {
     "end_time": "2024-05-18T18:34:14.145785Z",
     "start_time": "2024-05-18T18:34:14.140223Z"
    }
   },
   "outputs": [],
   "source": [
    "from sklearn.model_selection import GridSearchCV\n",
    "parameters = {\n",
    "    'features__text_pipeline__vect__ngram_range': ((1, 1), (1, 2)),\n",
    "    'clf__estimator__n_estimators': [100, 150],\n",
    "    'clf__estimator__min_samples_split': [5, 10]\n",
    "}\n",
    "\n",
    "cv = GridSearchCV(pipeline, param_grid=parameters, cv = 5) #n_jobs = -1)"
   ]
  },
  {
   "cell_type": "code",
   "execution_count": 52,
   "metadata": {
    "ExecuteTime": {
     "end_time": "2024-05-18T01:32:33.199777Z",
     "start_time": "2024-05-17T20:54:35.324390Z"
    }
   },
   "outputs": [
    {
     "name": "stdout",
     "output_type": "stream",
     "text": [
      "end_time:  2024-05-18 03:32:33.195827\n"
     ]
    }
   ],
   "source": [
    "import datetime\n",
    "print(\"start time: \", datetime.datetime.now())\n",
    "cv.fit(X_train, y_train)\n",
    "print(\"end_time: \", datetime.datetime.now())"
   ]
  },
  {
   "cell_type": "code",
   "execution_count": 53,
   "metadata": {
    "ExecuteTime": {
     "end_time": "2024-05-18T01:32:33.205568Z",
     "start_time": "2024-05-18T01:32:33.201904Z"
    }
   },
   "outputs": [
    {
     "name": "stdout",
     "output_type": "stream",
     "text": [
      "\n",
      "Best Parameters: {'clf__estimator__min_samples_split': 5, 'clf__estimator__n_estimators': 100, 'features__text_pipeline__vect__ngram_range': (1, 2)}\n"
     ]
    }
   ],
   "source": [
    "print(\"\\nBest Parameters:\", cv.best_params_)"
   ]
  },
  {
   "cell_type": "code",
   "execution_count": null,
   "metadata": {},
   "outputs": [],
   "source": []
  },
  {
   "cell_type": "markdown",
   "metadata": {},
   "source": [
    "### 7. Test your model\n",
    "Show the accuracy, precision, and recall of the tuned model.  \n",
    "\n",
    "Since this project focuses on code quality, process, and  pipelines, there is no minimum performance metric needed to pass. However, make sure to fine tune your models for accuracy, precision and recall to make your project stand out - especially for your portfolio!"
   ]
  },
  {
   "cell_type": "code",
   "execution_count": 87,
   "metadata": {
    "ExecuteTime": {
     "end_time": "2024-05-18T11:39:43.144383Z",
     "start_time": "2024-05-18T11:39:43.141319Z"
    }
   },
   "outputs": [],
   "source": [
    "best_estimator = cv.best_estimator_"
   ]
  },
  {
   "cell_type": "code",
   "execution_count": 228,
   "metadata": {
    "ExecuteTime": {
     "end_time": "2024-05-18T18:34:47.075943Z",
     "start_time": "2024-05-18T18:34:47.070748Z"
    }
   },
   "outputs": [
    {
     "data": {
      "text/plain": [
       "sklearn.pipeline.Pipeline"
      ]
     },
     "execution_count": 228,
     "metadata": {},
     "output_type": "execute_result"
    }
   ],
   "source": [
    "type(best_estimator)"
   ]
  },
  {
   "cell_type": "code",
   "execution_count": null,
   "metadata": {},
   "outputs": [],
   "source": [
    "# check performance on train to check for overfitting\n"
   ]
  },
  {
   "cell_type": "code",
   "execution_count": 235,
   "metadata": {
    "ExecuteTime": {
     "end_time": "2024-05-18T18:43:14.426100Z",
     "start_time": "2024-05-18T18:41:37.802889Z"
    },
    "collapsed": true
   },
   "outputs": [
    {
     "name": "stdout",
     "output_type": "stream",
     "text": [
      "Accuracy: 0.8370969382565354\n",
      "Classification Report:\n",
      "              precision    recall  f1-score   support\n",
      "\n",
      "           0       0.97      0.88      0.92      3413\n",
      "           1       1.00      0.64      0.78        85\n",
      "           2       0.95      0.92      0.93      8238\n",
      "           3       0.99      0.75      0.85      1627\n",
      "           4       0.99      0.76      0.86       984\n",
      "           5       1.00      0.74      0.85       547\n",
      "           6       1.00      0.70      0.82       371\n",
      "           7       0.98      0.78      0.87       671\n",
      "           8       0.99      0.83      0.90      1276\n",
      "           9       0.97      0.89      0.93      2233\n",
      "          10       0.98      0.85      0.91      1747\n",
      "          11       0.99      0.75      0.85       315\n",
      "          12       1.00      0.72      0.84       462\n",
      "          13       1.00      0.75      0.86       234\n",
      "          14       0.99      0.74      0.85       666\n",
      "          15       0.99      0.77      0.87       911\n",
      "          16       1.00      0.76      0.86      2592\n",
      "          17       1.00      0.74      0.85      1290\n",
      "          18       0.99      0.76      0.86       923\n",
      "          19       0.99      0.78      0.87       982\n",
      "          20       1.00      0.74      0.85       398\n",
      "          21       1.00      0.61      0.76       122\n",
      "          22       1.00      0.69      0.82       224\n",
      "          23       1.00      0.72      0.84        92\n",
      "          24       1.00      0.73      0.85       237\n",
      "          25       0.99      0.73      0.84       857\n",
      "          26       0.97      0.91      0.94      5521\n",
      "          27       0.99      0.83      0.90      1664\n",
      "          28       0.97      0.85      0.90      1865\n",
      "          29       1.00      0.70      0.82       213\n",
      "          30       0.98      0.93      0.95      1835\n",
      "          31       1.00      0.75      0.85       396\n",
      "          32       1.00      0.74      0.85      1029\n",
      "          33       0.97      0.85      0.90      3858\n",
      "\n",
      "   micro avg       0.98      0.84      0.90     47878\n",
      "   macro avg       0.99      0.77      0.87     47878\n",
      "weighted avg       0.98      0.84      0.90     47878\n",
      " samples avg       0.53      0.48      0.49     47878\n",
      "\n",
      "Accuracy for each output: [0.9738582036415421, 0.9984233546943343, 0.945580307191537, 0.9788424371884854, 0.9878954328145662, 0.9928288068355203, 0.9943545926151969, 0.9921167734716713, 0.9883531685484691, 0.9847930017292239, 0.9848947207812023, 0.9957786593428949, 0.9934391211473909, 0.9969992879666362, 0.9909470043739192, 0.9891160614383074, 0.9678567795748143, 0.9828603397416336, 0.9885057471264368, 0.9886583257044045, 0.9947106092971213, 0.9975587427525175, 0.996490692706744, 0.9986776523242803, 0.9967958498626793, 0.9882005899705014, 0.9667378700030516, 0.9848947207812023, 0.9830129183196012, 0.9967449903366901, 0.9909470043739192, 0.994863187875089, 0.9864205065608789, 0.9651103651713966]\n"
     ]
    },
    {
     "name": "stderr",
     "output_type": "stream",
     "text": [
      "/home/arjunanl/.virtualenv/usecase/lib/python3.6/site-packages/sklearn/metrics/_classification.py:1248: UndefinedMetricWarning:\n",
      "\n",
      "Precision and F-score are ill-defined and being set to 0.0 in samples with no predicted labels. Use `zero_division` parameter to control this behavior.\n",
      "\n",
      "/home/arjunanl/.virtualenv/usecase/lib/python3.6/site-packages/sklearn/metrics/_classification.py:1248: UndefinedMetricWarning:\n",
      "\n",
      "Recall and F-score are ill-defined and being set to 0.0 in samples with no true labels. Use `zero_division` parameter to control this behavior.\n",
      "\n"
     ]
    }
   ],
   "source": [
    "y_pred_train = best_estimator.predict(X_train)\n",
    "calculate_model_metrics(X_train, y_train, y_pred_train)"
   ]
  },
  {
   "cell_type": "code",
   "execution_count": 229,
   "metadata": {
    "ExecuteTime": {
     "end_time": "2024-05-18T18:35:34.160227Z",
     "start_time": "2024-05-18T18:35:01.378086Z"
    }
   },
   "outputs": [],
   "source": [
    "y_pred = best_estimator.predict(X_test)"
   ]
  },
  {
   "cell_type": "code",
   "execution_count": 230,
   "metadata": {
    "ExecuteTime": {
     "end_time": "2024-05-18T18:35:34.225582Z",
     "start_time": "2024-05-18T18:35:34.162552Z"
    },
    "collapsed": true
   },
   "outputs": [
    {
     "name": "stdout",
     "output_type": "stream",
     "text": [
      "Accuracy: 0.8414708574916082\n",
      "Classification Report:\n",
      "              precision    recall  f1-score   support\n",
      "\n",
      "           0       0.97      0.89      0.93      1061\n",
      "           1       1.00      0.64      0.78        33\n",
      "           2       0.95      0.92      0.94      2622\n",
      "           3       0.99      0.74      0.84       457\n",
      "           4       1.00      0.78      0.88       329\n",
      "           5       0.99      0.77      0.86       177\n",
      "           6       1.00      0.73      0.84       100\n",
      "           7       1.00      0.74      0.85       189\n",
      "           8       0.99      0.83      0.90       396\n",
      "           9       0.97      0.87      0.92       690\n",
      "          10       0.98      0.84      0.91       567\n",
      "          11       1.00      0.72      0.84        90\n",
      "          12       0.99      0.73      0.84       142\n",
      "          13       1.00      0.66      0.79        64\n",
      "          14       0.99      0.75      0.85       209\n",
      "          15       1.00      0.77      0.87       283\n",
      "          16       1.00      0.75      0.85       854\n",
      "          17       1.00      0.75      0.86       415\n",
      "          18       0.99      0.72      0.83       278\n",
      "          19       0.99      0.75      0.86       351\n",
      "          20       1.00      0.76      0.86       134\n",
      "          21       1.00      0.68      0.81        37\n",
      "          22       1.00      0.80      0.89        59\n",
      "          23       1.00      0.71      0.83        28\n",
      "          24       1.00      0.65      0.79        72\n",
      "          25       1.00      0.74      0.85       294\n",
      "          26       0.97      0.91      0.94      1776\n",
      "          27       0.98      0.82      0.90       491\n",
      "          28       0.97      0.85      0.91       578\n",
      "          29       1.00      0.77      0.87        69\n",
      "          30       0.98      0.95      0.96       620\n",
      "          31       1.00      0.76      0.86       134\n",
      "          32       0.99      0.75      0.86       347\n",
      "          33       0.97      0.84      0.90      1217\n",
      "\n",
      "   micro avg       0.97      0.84      0.90     15163\n",
      "   macro avg       0.99      0.77      0.87     15163\n",
      "weighted avg       0.98      0.84      0.90     15163\n",
      " samples avg       0.51      0.47      0.48     15163\n",
      "\n",
      "Accuracy for each output: [0.9768080561489166, 0.9981690570643882, 0.9487335978028685, 0.981080256332011, 0.9890143423863289, 0.9934391211473909, 0.9958803783948733, 0.992523649679585, 0.9891669209642966, 0.9833689350015258, 0.9853524565151053, 0.9961855355508087, 0.9938968568812938, 0.9966432712847116, 0.9917607567897467, 0.9899298138541349, 0.9667378700030516, 0.984131827891364, 0.9877937137625877, 0.9865730851388465, 0.9951174855050351, 0.9981690570643882, 0.9981690570643882, 0.9987793713762587, 0.9961855355508087, 0.9884040280744584, 0.9693317058285017, 0.9856576136710405, 0.9845895636252671, 0.9975587427525175, 0.9932865425694233, 0.9951174855050351, 0.9865730851388465, 0.9646017699115044]\n"
     ]
    },
    {
     "name": "stderr",
     "output_type": "stream",
     "text": [
      "/home/arjunanl/.virtualenv/usecase/lib/python3.6/site-packages/sklearn/metrics/_classification.py:1248: UndefinedMetricWarning:\n",
      "\n",
      "Precision and F-score are ill-defined and being set to 0.0 in samples with no predicted labels. Use `zero_division` parameter to control this behavior.\n",
      "\n",
      "/home/arjunanl/.virtualenv/usecase/lib/python3.6/site-packages/sklearn/metrics/_classification.py:1248: UndefinedMetricWarning:\n",
      "\n",
      "Recall and F-score are ill-defined and being set to 0.0 in samples with no true labels. Use `zero_division` parameter to control this behavior.\n",
      "\n"
     ]
    }
   ],
   "source": [
    "calculate_model_metrics(X_test, y_test, y_pred)"
   ]
  },
  {
   "cell_type": "markdown",
   "metadata": {},
   "source": [
    "### 8. Try improving your model further. Here are a few ideas:\n",
    "* try other machine learning algorithms\n",
    "* add other features besides the TF-IDF"
   ]
  },
  {
   "cell_type": "code",
   "execution_count": 231,
   "metadata": {
    "ExecuteTime": {
     "end_time": "2024-05-18T18:35:34.231562Z",
     "start_time": "2024-05-18T18:35:34.227200Z"
    }
   },
   "outputs": [],
   "source": [
    "def test_other_algorithms(X_train, y_train, X_test, y_test, classifier):\n",
    "    update_pipeline = Pipeline([\n",
    "        ('features', FeatureUnion([\n",
    "\n",
    "            ('text_pipeline', Pipeline([\n",
    "                ('vect', CountVectorizer(tokenizer=tokenize, ngram_range = (1,2))),\n",
    "                ('tfidf', TfidfTransformer(smooth_idf=False))\n",
    "            ])),\n",
    "        ])),\n",
    "\n",
    "        ('clf', classifier)\n",
    "    ])\n",
    "    \n",
    "    update_pipeline.fit(X_train, y_train)\n",
    "    \n",
    "    # predict on test\n",
    "    y_pred = update_pipeline.predict(X_test)\n",
    "    \n",
    "    calculate_model_metrics(X_test, y_test, y_pred)\n",
    "    "
   ]
  },
  {
   "cell_type": "code",
   "execution_count": 232,
   "metadata": {
    "ExecuteTime": {
     "end_time": "2024-05-18T18:35:34.236725Z",
     "start_time": "2024-05-18T18:35:34.233518Z"
    }
   },
   "outputs": [],
   "source": [
    "# test K neighbors\n",
    "from sklearn.multioutput import MultiOutputClassifier\n",
    "from sklearn.neighbors import KNeighborsClassifier\n",
    "classifier = MultiOutputClassifier(KNeighborsClassifier())"
   ]
  },
  {
   "cell_type": "code",
   "execution_count": 233,
   "metadata": {
    "ExecuteTime": {
     "end_time": "2024-05-18T18:37:54.038896Z",
     "start_time": "2024-05-18T18:35:34.679043Z"
    }
   },
   "outputs": [
    {
     "name": "stdout",
     "output_type": "stream",
     "text": [
      "Accuracy: 0.4525480622520598\n",
      "Classification Report:\n",
      "              precision    recall  f1-score   support\n",
      "\n",
      "           0       0.82      0.01      0.03      1061\n",
      "           1       0.00      0.00      0.00        33\n",
      "           2       0.70      0.01      0.01      2622\n",
      "           3       0.00      0.00      0.00       457\n",
      "           4       0.00      0.00      0.00       329\n",
      "           5       0.00      0.00      0.00       177\n",
      "           6       0.00      0.00      0.00       100\n",
      "           7       0.00      0.00      0.00       189\n",
      "           8       1.00      0.01      0.02       396\n",
      "           9       0.89      0.01      0.02       690\n",
      "          10       0.00      0.00      0.00       567\n",
      "          11       1.00      0.01      0.02        90\n",
      "          12       0.00      0.00      0.00       142\n",
      "          13       0.00      0.00      0.00        64\n",
      "          14       0.00      0.00      0.00       209\n",
      "          15       1.00      0.01      0.02       283\n",
      "          16       0.38      0.00      0.01       854\n",
      "          17       0.00      0.00      0.00       415\n",
      "          18       0.00      0.00      0.00       278\n",
      "          19       0.00      0.00      0.00       351\n",
      "          20       0.00      0.00      0.00       134\n",
      "          21       0.00      0.00      0.00        37\n",
      "          22       0.00      0.00      0.00        59\n",
      "          23       0.00      0.00      0.00        28\n",
      "          24       0.00      0.00      0.00        72\n",
      "          25       0.00      0.00      0.00       294\n",
      "          26       0.84      0.03      0.05      1776\n",
      "          27       0.00      0.00      0.00       491\n",
      "          28       0.60      0.01      0.01       578\n",
      "          29       0.00      0.00      0.00        69\n",
      "          30       0.82      0.07      0.12       620\n",
      "          31       1.00      0.01      0.01       134\n",
      "          32       0.67      0.01      0.01       347\n",
      "          33       0.94      0.01      0.03      1217\n",
      "\n",
      "   micro avg       0.80      0.01      0.02     15163\n",
      "   macro avg       0.31      0.01      0.01     15163\n",
      "weighted avg       0.55      0.01      0.02     15163\n",
      " samples avg       0.01      0.01      0.01     15163\n",
      "\n",
      "Accuracy for each output: [0.839792493133964, 0.9949649069270674, 0.6016173329264571, 0.9302715898687824, 0.9498016478486421, 0.9729935916997253, 0.9847421422032346, 0.9711626487641135, 0.9400366188587123, 0.8957888312480927, 0.9131827891364053, 0.9864205065608789, 0.9783338419285932, 0.9902349710100702, 0.9681110772047604, 0.957277998169057, 0.8693927372596887, 0.9366798901434239, 0.9575831553249924, 0.9464449191333537, 0.9795544705523345, 0.9943545926151969, 0.9909978638999084, 0.9957277998169057, 0.9890143423863289, 0.9551418980775099, 0.7351235886481537, 0.9250839182178822, 0.911962160512664, 0.989472078120232, 0.9102837961550199, 0.9797070491303022, 0.9472078120231919, 0.8166005492828807]\n"
     ]
    },
    {
     "name": "stderr",
     "output_type": "stream",
     "text": [
      "/home/arjunanl/.virtualenv/usecase/lib/python3.6/site-packages/sklearn/metrics/_classification.py:1248: UndefinedMetricWarning:\n",
      "\n",
      "Precision and F-score are ill-defined and being set to 0.0 in labels with no predicted samples. Use `zero_division` parameter to control this behavior.\n",
      "\n",
      "/home/arjunanl/.virtualenv/usecase/lib/python3.6/site-packages/sklearn/metrics/_classification.py:1248: UndefinedMetricWarning:\n",
      "\n",
      "Precision and F-score are ill-defined and being set to 0.0 in samples with no predicted labels. Use `zero_division` parameter to control this behavior.\n",
      "\n",
      "/home/arjunanl/.virtualenv/usecase/lib/python3.6/site-packages/sklearn/metrics/_classification.py:1248: UndefinedMetricWarning:\n",
      "\n",
      "Recall and F-score are ill-defined and being set to 0.0 in samples with no true labels. Use `zero_division` parameter to control this behavior.\n",
      "\n"
     ]
    }
   ],
   "source": [
    "test_other_algorithms(X_train, y_train, X_test, y_test, classifier)"
   ]
  },
  {
   "cell_type": "code",
   "execution_count": 234,
   "metadata": {
    "ExecuteTime": {
     "end_time": "2024-05-18T18:40:53.292880Z",
     "start_time": "2024-05-18T18:37:54.041603Z"
    }
   },
   "outputs": [
    {
     "name": "stdout",
     "output_type": "stream",
     "text": [
      "Accuracy: 0.41653951785169363\n",
      "Classification Report:\n",
      "              precision    recall  f1-score   support\n",
      "\n",
      "           0       0.76      0.58      0.66      1061\n",
      "           1       0.00      0.00      0.00        33\n",
      "           2       0.72      0.72      0.72      2622\n",
      "           3       0.62      0.15      0.25       457\n",
      "           4       0.82      0.14      0.24       329\n",
      "           5       0.83      0.03      0.05       177\n",
      "           6       0.00      0.00      0.00       100\n",
      "           7       0.67      0.07      0.13       189\n",
      "           8       0.74      0.55      0.63       396\n",
      "           9       0.81      0.62      0.70       690\n",
      "          10       0.81      0.42      0.55       567\n",
      "          11       0.81      0.14      0.25        90\n",
      "          12       0.80      0.03      0.05       142\n",
      "          13       0.00      0.00      0.00        64\n",
      "          14       0.70      0.03      0.06       209\n",
      "          15       0.91      0.19      0.31       283\n",
      "          16       0.56      0.12      0.19       854\n",
      "          17       0.70      0.02      0.03       415\n",
      "          18       0.78      0.05      0.09       278\n",
      "          19       0.79      0.19      0.30       351\n",
      "          20       0.75      0.09      0.16       134\n",
      "          21       0.00      0.00      0.00        37\n",
      "          22       0.00      0.00      0.00        59\n",
      "          23       0.00      0.00      0.00        28\n",
      "          24       0.00      0.00      0.00        72\n",
      "          25       0.50      0.01      0.01       294\n",
      "          26       0.83      0.67      0.74      1776\n",
      "          27       0.90      0.35      0.51       491\n",
      "          28       0.73      0.43      0.54       578\n",
      "          29       0.50      0.01      0.03        69\n",
      "          30       0.90      0.65      0.76       620\n",
      "          31       0.33      0.01      0.03       134\n",
      "          32       0.71      0.01      0.03       347\n",
      "          33       0.71      0.48      0.57      1217\n",
      "\n",
      "   micro avg       0.76      0.42      0.54     15163\n",
      "   macro avg       0.58      0.20      0.25     15163\n",
      "weighted avg       0.73      0.42      0.49     15163\n",
      " samples avg       0.40      0.25      0.29     15163\n",
      "\n",
      "Accuracy for each output: [0.9025022886786696, 0.9949649069270674, 0.778150747635032, 0.9345437900518767, 0.9554470552334452, 0.973603906011596, 0.9847421422032346, 0.9722306988098871, 0.9609398840402807, 0.9446139761977418, 0.9412572474824534, 0.9877937137625877, 0.9787915776624961, 0.9902349710100702, 0.9687213915166311, 0.9641440341776014, 0.8730546231309124, 0.9372902044552944, 0.9591089411046689, 0.9537686908758011, 0.9807750991760756, 0.9943545926151969, 0.9909978638999084, 0.9957277998169057, 0.9890143423863289, 0.9551418980775099, 0.8730546231309124, 0.9485810192249008, 0.935764418675618, 0.989472078120232, 0.9604821483063778, 0.9792493133963991, 0.9475129691791272, 0.8664937442783033]\n"
     ]
    },
    {
     "name": "stderr",
     "output_type": "stream",
     "text": [
      "/home/arjunanl/.virtualenv/usecase/lib/python3.6/site-packages/sklearn/metrics/_classification.py:1248: UndefinedMetricWarning:\n",
      "\n",
      "Precision and F-score are ill-defined and being set to 0.0 in labels with no predicted samples. Use `zero_division` parameter to control this behavior.\n",
      "\n",
      "/home/arjunanl/.virtualenv/usecase/lib/python3.6/site-packages/sklearn/metrics/_classification.py:1248: UndefinedMetricWarning:\n",
      "\n",
      "Precision and F-score are ill-defined and being set to 0.0 in samples with no predicted labels. Use `zero_division` parameter to control this behavior.\n",
      "\n",
      "/home/arjunanl/.virtualenv/usecase/lib/python3.6/site-packages/sklearn/metrics/_classification.py:1248: UndefinedMetricWarning:\n",
      "\n",
      "Recall and F-score are ill-defined and being set to 0.0 in samples with no true labels. Use `zero_division` parameter to control this behavior.\n",
      "\n"
     ]
    }
   ],
   "source": [
    "# test logistic regression\n",
    "from sklearn.linear_model import LogisticRegression\n",
    "classifier = MultiOutputClassifier(LogisticRegression())\n",
    "\n",
    "test_other_algorithms(X_train, y_train, X_test, y_test, classifier)"
   ]
  },
  {
   "cell_type": "code",
   "execution_count": null,
   "metadata": {},
   "outputs": [],
   "source": []
  },
  {
   "cell_type": "markdown",
   "metadata": {},
   "source": [
    "### 9. Export your model as a pickle file"
   ]
  },
  {
   "cell_type": "code",
   "execution_count": 94,
   "metadata": {
    "ExecuteTime": {
     "end_time": "2024-05-18T12:10:57.348034Z",
     "start_time": "2024-05-18T12:10:53.972563Z"
    }
   },
   "outputs": [
    {
     "data": {
      "text/plain": [
       "['model.pkl']"
      ]
     },
     "execution_count": 94,
     "metadata": {},
     "output_type": "execute_result"
    }
   ],
   "source": [
    "import joblib\n",
    "joblib.dump(best_estimator, 'model.pkl')"
   ]
  },
  {
   "cell_type": "code",
   "execution_count": 95,
   "metadata": {
    "ExecuteTime": {
     "end_time": "2024-05-18T12:11:19.731930Z",
     "start_time": "2024-05-18T12:11:16.892605Z"
    }
   },
   "outputs": [],
   "source": [
    "# test loading model \n",
    "loaded_model = joblib.load('model.pkl')"
   ]
  },
  {
   "cell_type": "code",
   "execution_count": 96,
   "metadata": {
    "ExecuteTime": {
     "end_time": "2024-05-18T12:12:05.606948Z",
     "start_time": "2024-05-18T12:11:33.478001Z"
    }
   },
   "outputs": [],
   "source": [
    "preds_test = loaded_model.predict(X_test)"
   ]
  },
  {
   "cell_type": "code",
   "execution_count": 97,
   "metadata": {
    "ExecuteTime": {
     "end_time": "2024-05-18T12:13:19.292751Z",
     "start_time": "2024-05-18T12:13:19.221957Z"
    }
   },
   "outputs": [
    {
     "name": "stdout",
     "output_type": "stream",
     "text": [
      "Accuracy: 0.8379615501983522\n",
      "Classification Report:\n",
      "              precision    recall  f1-score   support\n",
      "\n",
      "           0       0.97      0.89      0.93      1109\n",
      "           1       1.00      0.50      0.67        32\n",
      "           2       0.94      0.92      0.93      2731\n",
      "           3       0.99      0.73      0.84       496\n",
      "           4       1.00      0.77      0.87       323\n",
      "           5       0.98      0.75      0.85       155\n",
      "           6       1.00      0.75      0.85       114\n",
      "           7       0.98      0.80      0.88       217\n",
      "           8       1.00      0.84      0.91       438\n",
      "           9       0.98      0.89      0.93       785\n",
      "          10       0.98      0.84      0.91       579\n",
      "          11       0.99      0.74      0.85        96\n",
      "          12       1.00      0.76      0.86       157\n",
      "          13       1.00      0.69      0.82        74\n",
      "          14       0.98      0.76      0.86       231\n",
      "          15       0.99      0.81      0.89       286\n",
      "          16       1.00      0.73      0.85       859\n",
      "          17       1.00      0.72      0.83       451\n",
      "          18       1.00      0.71      0.83       284\n",
      "          19       0.99      0.74      0.85       340\n",
      "          20       1.00      0.70      0.83       128\n",
      "          21       1.00      0.62      0.76        39\n",
      "          22       1.00      0.71      0.83        78\n",
      "          23       1.00      0.76      0.87        34\n",
      "          24       1.00      0.71      0.83        75\n",
      "          25       1.00      0.69      0.82       302\n",
      "          26       0.97      0.92      0.94      1832\n",
      "          27       1.00      0.85      0.92       577\n",
      "          28       0.98      0.86      0.92       600\n",
      "          29       1.00      0.75      0.86        81\n",
      "          30       0.98      0.92      0.95       607\n",
      "          31       1.00      0.77      0.87       137\n",
      "          32       1.00      0.72      0.84       339\n",
      "          33       0.97      0.84      0.90      1282\n",
      "\n",
      "   micro avg       0.98      0.84      0.90     15868\n",
      "   macro avg       0.99      0.77      0.86     15868\n",
      "weighted avg       0.98      0.84      0.90     15868\n",
      " samples avg       0.53      0.48      0.50     15868\n",
      "\n",
      "Accuracy for each output: [0.977113213304852, 0.9975587427525175, 0.9458346048214831, 0.9794018919743668, 0.988556606652426, 0.9937442783033262, 0.995575221238938, 0.9928288068355203, 0.9888617638083613, 0.983674092157461, 0.9847421422032346, 0.996032956972841, 0.9942020140372292, 0.996490692706744, 0.9909978638999084, 0.9911504424778761, 0.9647543484894721, 0.9804699420201404, 0.9873359780286848, 0.9861153494049435, 0.9942020140372292, 0.9977113213304852, 0.996490692706744, 0.9987793713762587, 0.9966432712847116, 0.9856576136710405, 0.9700945987183399, 0.9868782422947818, 0.9858101922490082, 0.9969484284406469, 0.9909978638999084, 0.9952700640830028, 0.9853524565151053, 0.9635337198657309]\n"
     ]
    },
    {
     "name": "stderr",
     "output_type": "stream",
     "text": [
      "/home/arjunanl/.virtualenv/usecase/lib/python3.6/site-packages/sklearn/metrics/_classification.py:1248: UndefinedMetricWarning:\n",
      "\n",
      "Precision and F-score are ill-defined and being set to 0.0 in samples with no predicted labels. Use `zero_division` parameter to control this behavior.\n",
      "\n",
      "/home/arjunanl/.virtualenv/usecase/lib/python3.6/site-packages/sklearn/metrics/_classification.py:1248: UndefinedMetricWarning:\n",
      "\n",
      "Recall and F-score are ill-defined and being set to 0.0 in samples with no true labels. Use `zero_division` parameter to control this behavior.\n",
      "\n"
     ]
    }
   ],
   "source": [
    "calculate_model_metrics(X_test, y_test, preds_test)"
   ]
  },
  {
   "cell_type": "markdown",
   "metadata": {},
   "source": [
    "### 10. Use this notebook to complete `train_classifier.py`\n",
    "Use the template file attached in the Resources folder to write a script that runs the steps above to create a database and export a model based on a new dataset specified by the user."
   ]
  },
  {
   "cell_type": "markdown",
   "metadata": {},
   "source": [
    "# References\n",
    "* Udacity course content\n",
    "* https://stackoverflow.com/questions/71902957/how-to-use-gridsearchcv-with-multioutputclassifiermlpclassifier-pipeline"
   ]
  },
  {
   "cell_type": "code",
   "execution_count": null,
   "metadata": {},
   "outputs": [],
   "source": []
  }
 ],
 "metadata": {
  "kernelspec": {
   "display_name": "Python 3",
   "language": "python",
   "name": "python3"
  },
  "language_info": {
   "codemirror_mode": {
    "name": "ipython",
    "version": 3
   },
   "file_extension": ".py",
   "mimetype": "text/x-python",
   "name": "python",
   "nbconvert_exporter": "python",
   "pygments_lexer": "ipython3",
   "version": "3.6.13"
  }
 },
 "nbformat": 4,
 "nbformat_minor": 2
}
